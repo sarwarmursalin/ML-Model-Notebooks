{
  "nbformat": 4,
  "nbformat_minor": 0,
  "metadata": {
    "colab": {
      "name": "AED - Draft7 - 25GB GPU",
      "provenance": [],
      "collapsed_sections": [],
      "toc_visible": true,
      "machine_shape": "hm"
    },
    "kernelspec": {
      "name": "python3",
      "display_name": "Python 3"
    },
    "accelerator": "GPU"
  },
  "cells": [
    {
      "cell_type": "markdown",
      "metadata": {
        "id": "4XI6-wiaUxLA"
      },
      "source": [
        "**RNN LSTM BiLSTM**"
      ]
    },
    {
      "cell_type": "code",
      "metadata": {
        "id": "ck3xM16AM0-p",
        "colab": {
          "base_uri": "https://localhost:8080/",
          "height": 88
        },
        "outputId": "8c092aca-f442-498b-f172-d412c02934ce"
      },
      "source": [
        "!pip install BnPReprocessing\n",
        "# !pip install bltk\n",
        "# !pip install BnLemma"
      ],
      "execution_count": null,
      "outputs": [
        {
          "output_type": "stream",
          "text": [
            "Collecting BnPReprocessing\n",
            "  Downloading https://files.pythonhosted.org/packages/16/c1/843d1da9333b638724d31f5c88a683ad55e8492898863d8881a4f5b57bc9/BnPreprocessing-2.8-py3-none-any.whl\n",
            "Installing collected packages: BnPReprocessing\n",
            "Successfully installed BnPReprocessing-2.8\n"
          ],
          "name": "stdout"
        }
      ]
    },
    {
      "cell_type": "code",
      "metadata": {
        "id": "1sIIpVSsU1Mj"
      },
      "source": [
        "# from google.colab import drive\n",
        "# drive.mount('/content/drive')"
      ],
      "execution_count": null,
      "outputs": []
    },
    {
      "cell_type": "markdown",
      "metadata": {
        "id": "j9_dRpBa1mPR"
      },
      "source": [
        "# 1 . Initial and Fundamental Steps"
      ]
    },
    {
      "cell_type": "markdown",
      "metadata": {
        "id": "j6eft3YlzMxO"
      },
      "source": [
        "### 1.1 Load data and packages"
      ]
    },
    {
      "cell_type": "code",
      "metadata": {
        "id": "wqJjJAXDNZNI"
      },
      "source": [
        "import pandas as pd\n",
        "import regex"
      ],
      "execution_count": null,
      "outputs": []
    },
    {
      "cell_type": "code",
      "metadata": {
        "id": "v2AvgyfcNrI3"
      },
      "source": [
        "# df1 = pd.read_csv('/content/drive/My Drive/nlp/emotion/dataset/5743_data.csv')\n",
        "# print(\"total {} data\".format(len(df1)))\n",
        "# df2 = pd.read_csv('fear.csv')\n",
        "# df1.head(10) # to randomly pickup some data"
      ],
      "execution_count": null,
      "outputs": []
    },
    {
      "cell_type": "code",
      "metadata": {
        "id": "S7dKeSaSEInc"
      },
      "source": [
        "# df1 = pd.read_csv('5743_data.csv')\n",
        "# df2 = pd.read_csv('fear.csv')\n",
        "# df3 = pd.read_csv('surprise.csv')\n",
        "# df4 = pd.read_csv('anger.csv')\n",
        "# df5 = pd.read_csv('joy.csv')\n",
        "# df6 = pd.read_csv('sadness.csv')\n",
        "# df7 = pd.read_csv('disgust_own.csv')\n",
        "# df8 = pd.read_csv('5_surprise.csv')\n",
        "# df9 = pd.read_csv('5_disgust.csv')\n",
        "# df10 = pd.read_csv('6_disgust.csv')\n",
        "# df11 = pd.read_csv('6_fear.csv')\n",
        "# df12 = pd.read_csv('6_anger.csv')\n",
        "# df13 = pd.read_csv('6_sadness.csv')\n",
        "\n",
        "\n",
        "# df = pd.concat([df1, df2, df3, df4, df5, df6,df7,df7],ignore_index=True)\n",
        "# df"
      ],
      "execution_count": null,
      "outputs": []
    },
    {
      "cell_type": "code",
      "metadata": {
        "id": "qjsr4fLnZEgH",
        "colab": {
          "base_uri": "https://localhost:8080/",
          "height": 402
        },
        "outputId": "2eac080f-cb17-40b3-da34-34767d92a7ef"
      },
      "source": [
        "df = pd.read_csv('25kdata.csv')\n",
        "df"
      ],
      "execution_count": null,
      "outputs": [
        {
          "output_type": "execute_result",
          "data": {
            "text/html": [
              "<div>\n",
              "<style scoped>\n",
              "    .dataframe tbody tr th:only-of-type {\n",
              "        vertical-align: middle;\n",
              "    }\n",
              "\n",
              "    .dataframe tbody tr th {\n",
              "        vertical-align: top;\n",
              "    }\n",
              "\n",
              "    .dataframe thead th {\n",
              "        text-align: right;\n",
              "    }\n",
              "</style>\n",
              "<table border=\"1\" class=\"dataframe\">\n",
              "  <thead>\n",
              "    <tr style=\"text-align: right;\">\n",
              "      <th></th>\n",
              "      <th>TEXT</th>\n",
              "      <th>classes</th>\n",
              "    </tr>\n",
              "  </thead>\n",
              "  <tbody>\n",
              "    <tr>\n",
              "      <th>0</th>\n",
              "      <td>benson এ একটা জোস জিনিশ বার করল! benson fine c...</td>\n",
              "      <td>joy</td>\n",
              "    </tr>\n",
              "    <tr>\n",
              "      <th>1</th>\n",
              "      <td>ভাই রে ভাই....কিরণ দত্ত একটা চিজ....ভালোবাসা ভাই।</td>\n",
              "      <td>joy</td>\n",
              "    </tr>\n",
              "    <tr>\n",
              "      <th>2</th>\n",
              "      <td>দাদা তোমাকে খুব ভালোবাসি, সবসময় তোমার ভিডিও দে...</td>\n",
              "      <td>joy</td>\n",
              "    </tr>\n",
              "    <tr>\n",
              "      <th>3</th>\n",
              "      <td>ওভাই....কোন  অঞ্চলের বাংলা  ভাষা  ?? না মানে ...</td>\n",
              "      <td>joy</td>\n",
              "    </tr>\n",
              "    <tr>\n",
              "      <th>4</th>\n",
              "      <td>তোরে কে আঘাত দিয়েই আসলেই রিসেন্টলি আঘাত পাইসো...</td>\n",
              "      <td>joy</td>\n",
              "    </tr>\n",
              "    <tr>\n",
              "      <th>...</th>\n",
              "      <td>...</td>\n",
              "      <td>...</td>\n",
              "    </tr>\n",
              "    <tr>\n",
              "      <th>29841</th>\n",
              "      <td>সেই অদ্ভুত মুহূর্তটি যখন আপনি সেন্সর পূর্ণ একট...</td>\n",
              "      <td>surprise</td>\n",
              "    </tr>\n",
              "    <tr>\n",
              "      <th>29842</th>\n",
              "      <td>Vanavond surprise afmaken     pfoe  wát een we...</td>\n",
              "      <td>surprise</td>\n",
              "    </tr>\n",
              "    <tr>\n",
              "      <th>29843</th>\n",
              "      <td>জিএম ইয়াল     মাত্র আমার   টা খাবারের জন্য ঘু...</td>\n",
              "      <td>surprise</td>\n",
              "    </tr>\n",
              "    <tr>\n",
              "      <th>29844</th>\n",
              "      <td>ভাল কাজ   অ্যানি স্পায়ার   রেবেকাস্পেন্স    এ...</td>\n",
              "      <td>surprise</td>\n",
              "    </tr>\n",
              "    <tr>\n",
              "      <th>29845</th>\n",
              "      <td>অডিও স্ক্রিপ্ট ফাইলটি দূষিত  সুতরাং আমি এটি ...</td>\n",
              "      <td>surprise</td>\n",
              "    </tr>\n",
              "  </tbody>\n",
              "</table>\n",
              "<p>29846 rows × 2 columns</p>\n",
              "</div>"
            ],
            "text/plain": [
              "                                                    TEXT   classes\n",
              "0      benson এ একটা জোস জিনিশ বার করল! benson fine c...       joy\n",
              "1      ভাই রে ভাই....কিরণ দত্ত একটা চিজ....ভালোবাসা ভাই।       joy\n",
              "2      দাদা তোমাকে খুব ভালোবাসি, সবসময় তোমার ভিডিও দে...       joy\n",
              "3       ওভাই....কোন  অঞ্চলের বাংলা  ভাষা  ?? না মানে ...       joy\n",
              "4       তোরে কে আঘাত দিয়েই আসলেই রিসেন্টলি আঘাত পাইসো...       joy\n",
              "...                                                  ...       ...\n",
              "29841  সেই অদ্ভুত মুহূর্তটি যখন আপনি সেন্সর পূর্ণ একট...  surprise\n",
              "29842  Vanavond surprise afmaken     pfoe  wát een we...  surprise\n",
              "29843  জিএম ইয়াল     মাত্র আমার   টা খাবারের জন্য ঘু...  surprise\n",
              "29844  ভাল কাজ   অ্যানি স্পায়ার   রেবেকাস্পেন্স    এ...  surprise\n",
              "29845    অডিও স্ক্রিপ্ট ফাইলটি দূষিত  সুতরাং আমি এটি ...  surprise\n",
              "\n",
              "[29846 rows x 2 columns]"
            ]
          },
          "metadata": {
            "tags": []
          },
          "execution_count": 18
        }
      ]
    },
    {
      "cell_type": "markdown",
      "metadata": {
        "id": "9uT5YMF02C55"
      },
      "source": [
        "### 1.2 Checking corresponding rows for Nan values"
      ]
    },
    {
      "cell_type": "code",
      "metadata": {
        "id": "6jwWWyHk0q8m",
        "colab": {
          "base_uri": "https://localhost:8080/",
          "height": 136
        },
        "outputId": "d81f5caa-17eb-4686-fe49-d604784ef27e"
      },
      "source": [
        "df[df.isna().any(axis=1)]"
      ],
      "execution_count": null,
      "outputs": [
        {
          "output_type": "execute_result",
          "data": {
            "text/html": [
              "<div>\n",
              "<style scoped>\n",
              "    .dataframe tbody tr th:only-of-type {\n",
              "        vertical-align: middle;\n",
              "    }\n",
              "\n",
              "    .dataframe tbody tr th {\n",
              "        vertical-align: top;\n",
              "    }\n",
              "\n",
              "    .dataframe thead th {\n",
              "        text-align: right;\n",
              "    }\n",
              "</style>\n",
              "<table border=\"1\" class=\"dataframe\">\n",
              "  <thead>\n",
              "    <tr style=\"text-align: right;\">\n",
              "      <th></th>\n",
              "      <th>TEXT</th>\n",
              "      <th>classes</th>\n",
              "    </tr>\n",
              "  </thead>\n",
              "  <tbody>\n",
              "    <tr>\n",
              "      <th>8623</th>\n",
              "      <td>NaN</td>\n",
              "      <td>surprise</td>\n",
              "    </tr>\n",
              "    <tr>\n",
              "      <th>11333</th>\n",
              "      <td>NaN</td>\n",
              "      <td>anger</td>\n",
              "    </tr>\n",
              "    <tr>\n",
              "      <th>11334</th>\n",
              "      <td>NaN</td>\n",
              "      <td>anger</td>\n",
              "    </tr>\n",
              "  </tbody>\n",
              "</table>\n",
              "</div>"
            ],
            "text/plain": [
              "      TEXT   classes\n",
              "8623   NaN  surprise\n",
              "11333  NaN     anger\n",
              "11334  NaN     anger"
            ]
          },
          "metadata": {
            "tags": []
          },
          "execution_count": 19
        }
      ]
    },
    {
      "cell_type": "markdown",
      "metadata": {
        "id": "hdsgbpMU2RFo"
      },
      "source": [
        "### 1.3 As only one row with NaN , dropping it"
      ]
    },
    {
      "cell_type": "code",
      "metadata": {
        "id": "yr1nhuAR1bNd",
        "colab": {
          "base_uri": "https://localhost:8080/",
          "height": 34
        },
        "outputId": "ce893bdc-0bcd-4c36-a4c5-a32791376d83"
      },
      "source": [
        "df = df.dropna()\n",
        "print(\"total {} data\".format(len(df)))"
      ],
      "execution_count": null,
      "outputs": [
        {
          "output_type": "stream",
          "text": [
            "total 29843 data\n"
          ],
          "name": "stdout"
        }
      ]
    },
    {
      "cell_type": "code",
      "metadata": {
        "id": "F6pstaJ45BIZ",
        "colab": {
          "base_uri": "https://localhost:8080/",
          "height": 134
        },
        "outputId": "8012cde5-07e5-4dea-e70b-95212a31f841"
      },
      "source": [
        "df.classes.value_counts()"
      ],
      "execution_count": null,
      "outputs": [
        {
          "output_type": "execute_result",
          "data": {
            "text/plain": [
              "joy         7903\n",
              "sadness     6987\n",
              "surprise    5293\n",
              "anger       3468\n",
              "disgust     3159\n",
              "fear        3033\n",
              "Name: classes, dtype: int64"
            ]
          },
          "metadata": {
            "tags": []
          },
          "execution_count": 21
        }
      ]
    },
    {
      "cell_type": "code",
      "metadata": {
        "id": "iVuC8IFMwF9M"
      },
      "source": [
        "#merging all anger and disgust\n",
        "# df['classes'] = df['classes'].apply(lambda x: 'anger' if x=='disgust' else x)"
      ],
      "execution_count": null,
      "outputs": []
    },
    {
      "cell_type": "code",
      "metadata": {
        "id": "OPXjUE5fVYZJ",
        "colab": {
          "base_uri": "https://localhost:8080/",
          "height": 218
        },
        "outputId": "451d81bb-d10d-413c-d370-e8a777a3ffde"
      },
      "source": [
        "\n",
        "# #merging all surprise and fear\n",
        "# df['classes'] = df['classes'].apply(lambda x: 'surprise' if x=='fear' else x)\n",
        "df['classes'] = df['classes'].apply(lambda x: 'negative' if x=='sadness' else x)\n",
        "df['classes'] = df['classes'].apply(lambda x: 'positive' if x=='joy' else x)"
      ],
      "execution_count": null,
      "outputs": [
        {
          "output_type": "stream",
          "text": [
            "/usr/local/lib/python3.6/dist-packages/ipykernel_launcher.py:4: SettingWithCopyWarning: \n",
            "A value is trying to be set on a copy of a slice from a DataFrame.\n",
            "Try using .loc[row_indexer,col_indexer] = value instead\n",
            "\n",
            "See the caveats in the documentation: https://pandas.pydata.org/pandas-docs/stable/user_guide/indexing.html#returning-a-view-versus-a-copy\n",
            "  after removing the cwd from sys.path.\n",
            "/usr/local/lib/python3.6/dist-packages/ipykernel_launcher.py:5: SettingWithCopyWarning: \n",
            "A value is trying to be set on a copy of a slice from a DataFrame.\n",
            "Try using .loc[row_indexer,col_indexer] = value instead\n",
            "\n",
            "See the caveats in the documentation: https://pandas.pydata.org/pandas-docs/stable/user_guide/indexing.html#returning-a-view-versus-a-copy\n",
            "  \"\"\"\n"
          ],
          "name": "stderr"
        }
      ]
    },
    {
      "cell_type": "code",
      "metadata": {
        "id": "wDgBt3_o9ZX9",
        "colab": {
          "base_uri": "https://localhost:8080/",
          "height": 402
        },
        "outputId": "ef10b13a-9d76-42ad-bdaa-45a297f08bdd"
      },
      "source": [
        "# df = df[(df['classes'] == 'joy') | (df['classes'] == 'sadness') | (df['classes'] == 'anger')]\n",
        "df = df[(df['classes'] == 'positive') | (df['classes'] == 'negative')]\n",
        "df"
      ],
      "execution_count": null,
      "outputs": [
        {
          "output_type": "execute_result",
          "data": {
            "text/html": [
              "<div>\n",
              "<style scoped>\n",
              "    .dataframe tbody tr th:only-of-type {\n",
              "        vertical-align: middle;\n",
              "    }\n",
              "\n",
              "    .dataframe tbody tr th {\n",
              "        vertical-align: top;\n",
              "    }\n",
              "\n",
              "    .dataframe thead th {\n",
              "        text-align: right;\n",
              "    }\n",
              "</style>\n",
              "<table border=\"1\" class=\"dataframe\">\n",
              "  <thead>\n",
              "    <tr style=\"text-align: right;\">\n",
              "      <th></th>\n",
              "      <th>TEXT</th>\n",
              "      <th>classes</th>\n",
              "    </tr>\n",
              "  </thead>\n",
              "  <tbody>\n",
              "    <tr>\n",
              "      <th>0</th>\n",
              "      <td>benson এ একটা জোস জিনিশ বার করল! benson fine c...</td>\n",
              "      <td>positive</td>\n",
              "    </tr>\n",
              "    <tr>\n",
              "      <th>1</th>\n",
              "      <td>ভাই রে ভাই....কিরণ দত্ত একটা চিজ....ভালোবাসা ভাই।</td>\n",
              "      <td>positive</td>\n",
              "    </tr>\n",
              "    <tr>\n",
              "      <th>2</th>\n",
              "      <td>দাদা তোমাকে খুব ভালোবাসি, সবসময় তোমার ভিডিও দে...</td>\n",
              "      <td>positive</td>\n",
              "    </tr>\n",
              "    <tr>\n",
              "      <th>3</th>\n",
              "      <td>ওভাই....কোন  অঞ্চলের বাংলা  ভাষা  ?? না মানে ...</td>\n",
              "      <td>positive</td>\n",
              "    </tr>\n",
              "    <tr>\n",
              "      <th>4</th>\n",
              "      <td>তোরে কে আঘাত দিয়েই আসলেই রিসেন্টলি আঘাত পাইসো...</td>\n",
              "      <td>positive</td>\n",
              "    </tr>\n",
              "    <tr>\n",
              "      <th>...</th>\n",
              "      <td>...</td>\n",
              "      <td>...</td>\n",
              "    </tr>\n",
              "    <tr>\n",
              "      <th>23888</th>\n",
              "      <td>আমি নিজেকে অসহায় বোধ করছি আমি আপনার অসুস্থতার...</td>\n",
              "      <td>negative</td>\n",
              "    </tr>\n",
              "    <tr>\n",
              "      <th>23889</th>\n",
              "      <td>আমি অনুমান করি যে এ সমস্ত কিছুই নির্বিঘ্নে প্র...</td>\n",
              "      <td>negative</td>\n",
              "    </tr>\n",
              "    <tr>\n",
              "      <th>23890</th>\n",
              "      <td>আমি না বললে মিথ্যা বলার জন্য আমি করুণাময় বোধ করি</td>\n",
              "      <td>negative</td>\n",
              "    </tr>\n",
              "    <tr>\n",
              "      <th>23891</th>\n",
              "      <td>আমি সাহায্য করতে পারি না তবে আমাদের এখানে আঁকা...</td>\n",
              "      <td>negative</td>\n",
              "    </tr>\n",
              "    <tr>\n",
              "      <th>23892</th>\n",
              "      <td>আমি আগামীকাল সকালে এসএসএ পরীক্ষা দিচ্ছি আসন্ন ...</td>\n",
              "      <td>negative</td>\n",
              "    </tr>\n",
              "  </tbody>\n",
              "</table>\n",
              "<p>14890 rows × 2 columns</p>\n",
              "</div>"
            ],
            "text/plain": [
              "                                                    TEXT   classes\n",
              "0      benson এ একটা জোস জিনিশ বার করল! benson fine c...  positive\n",
              "1      ভাই রে ভাই....কিরণ দত্ত একটা চিজ....ভালোবাসা ভাই।  positive\n",
              "2      দাদা তোমাকে খুব ভালোবাসি, সবসময় তোমার ভিডিও দে...  positive\n",
              "3       ওভাই....কোন  অঞ্চলের বাংলা  ভাষা  ?? না মানে ...  positive\n",
              "4       তোরে কে আঘাত দিয়েই আসলেই রিসেন্টলি আঘাত পাইসো...  positive\n",
              "...                                                  ...       ...\n",
              "23888  আমি নিজেকে অসহায় বোধ করছি আমি আপনার অসুস্থতার...  negative\n",
              "23889  আমি অনুমান করি যে এ সমস্ত কিছুই নির্বিঘ্নে প্র...  negative\n",
              "23890  আমি না বললে মিথ্যা বলার জন্য আমি করুণাময় বোধ করি  negative\n",
              "23891  আমি সাহায্য করতে পারি না তবে আমাদের এখানে আঁকা...  negative\n",
              "23892  আমি আগামীকাল সকালে এসএসএ পরীক্ষা দিচ্ছি আসন্ন ...  negative\n",
              "\n",
              "[14890 rows x 2 columns]"
            ]
          },
          "metadata": {
            "tags": []
          },
          "execution_count": 24
        }
      ]
    },
    {
      "cell_type": "code",
      "metadata": {
        "id": "R5lSIicnwh6Z"
      },
      "source": [
        "# df.classes.value_counts()"
      ],
      "execution_count": null,
      "outputs": []
    },
    {
      "cell_type": "code",
      "metadata": {
        "id": "3qNlj0y5Vt_6"
      },
      "source": [
        "# df = df.groupby('classes').apply(lambda x: x.sample(2295))\n",
        "# df.classes.value_counts()"
      ],
      "execution_count": null,
      "outputs": []
    },
    {
      "cell_type": "markdown",
      "metadata": {
        "id": "A1KvlVs6_o-K"
      },
      "source": [
        "### 1.4 Maping the classes to integer(standerd procedure)"
      ]
    },
    {
      "cell_type": "code",
      "metadata": {
        "id": "66uL-tWz8bWd",
        "colab": {
          "base_uri": "https://localhost:8080/",
          "height": 34
        },
        "outputId": "676332cc-688d-4510-92e5-7b6a18cd0086"
      },
      "source": [
        "map_class = dict(zip(df.classes.astype(\"category\").cat.codes, df.classes))\n",
        "print(map_class)"
      ],
      "execution_count": null,
      "outputs": [
        {
          "output_type": "stream",
          "text": [
            "{1: 'positive', 0: 'negative'}\n"
          ],
          "name": "stdout"
        }
      ]
    },
    {
      "cell_type": "code",
      "metadata": {
        "id": "Be_IuyCP2YyW",
        "colab": {
          "base_uri": "https://localhost:8080/",
          "height": 343
        },
        "outputId": "27d31761-39f3-4411-ff25-23390df5b54f"
      },
      "source": [
        "df.classes = df.classes.astype(\"category\").cat.codes\n",
        "df.sample(10)"
      ],
      "execution_count": null,
      "outputs": [
        {
          "output_type": "execute_result",
          "data": {
            "text/html": [
              "<div>\n",
              "<style scoped>\n",
              "    .dataframe tbody tr th:only-of-type {\n",
              "        vertical-align: middle;\n",
              "    }\n",
              "\n",
              "    .dataframe tbody tr th {\n",
              "        vertical-align: top;\n",
              "    }\n",
              "\n",
              "    .dataframe thead th {\n",
              "        text-align: right;\n",
              "    }\n",
              "</style>\n",
              "<table border=\"1\" class=\"dataframe\">\n",
              "  <thead>\n",
              "    <tr style=\"text-align: right;\">\n",
              "      <th></th>\n",
              "      <th>TEXT</th>\n",
              "      <th>classes</th>\n",
              "    </tr>\n",
              "  </thead>\n",
              "  <tbody>\n",
              "    <tr>\n",
              "      <th>14312</th>\n",
              "      <td>আমি একটি স্বপ্ন রেকর্ড করার সময় একটি সন্তুষ্ট...</td>\n",
              "      <td>1</td>\n",
              "    </tr>\n",
              "    <tr>\n",
              "      <th>21249</th>\n",
              "      <td>ive প্রমাণিত হয়েছে যে আমি যখন কোনও সাধারণ ভুল...</td>\n",
              "      <td>0</td>\n",
              "    </tr>\n",
              "    <tr>\n",
              "      <th>12708</th>\n",
              "      <td>আমার মনে আছে যখন ইউকেতে দাতব্য অনুদানের জন্য এ...</td>\n",
              "      <td>1</td>\n",
              "    </tr>\n",
              "    <tr>\n",
              "      <th>18107</th>\n",
              "      <td>আমি এতটাই নিরুৎসাহিত হয়ে পড়ছিলাম যে আমরা এই ...</td>\n",
              "      <td>0</td>\n",
              "    </tr>\n",
              "    <tr>\n",
              "      <th>18692</th>\n",
              "      <td>আমি সত্যিই এটি কাটতে গিয়েছিলাম এটি আমার দুর্ভ...</td>\n",
              "      <td>0</td>\n",
              "    </tr>\n",
              "    <tr>\n",
              "      <th>4949</th>\n",
              "      <td>সাম্প্রতিক সময়ে মেসির পারফরম্যান্স আর তাঁর শরী...</td>\n",
              "      <td>0</td>\n",
              "    </tr>\n",
              "    <tr>\n",
              "      <th>21876</th>\n",
              "      <td>আমি বন্ধনগুলি আঁকতে শুরু করেছি এবং এটি কীভাবে ...</td>\n",
              "      <td>0</td>\n",
              "    </tr>\n",
              "    <tr>\n",
              "      <th>17658</th>\n",
              "      <td>আমি আবহাওয়ার এই মাস্টারপিসকে আমার সম্পূর্ণ মন...</td>\n",
              "      <td>1</td>\n",
              "    </tr>\n",
              "    <tr>\n",
              "      <th>2736</th>\n",
              "      <td>তার বাবা সেদিন আমাকে জড়িয়ে কাঁদলেন অনেকক্ষন । ...</td>\n",
              "      <td>0</td>\n",
              "    </tr>\n",
              "    <tr>\n",
              "      <th>14640</th>\n",
              "      <td>আমি সুদর্শন q অনুভব করছি ওহ থেকে এই গানের কথাট...</td>\n",
              "      <td>1</td>\n",
              "    </tr>\n",
              "  </tbody>\n",
              "</table>\n",
              "</div>"
            ],
            "text/plain": [
              "                                                    TEXT  classes\n",
              "14312  আমি একটি স্বপ্ন রেকর্ড করার সময় একটি সন্তুষ্ট...        1\n",
              "21249  ive প্রমাণিত হয়েছে যে আমি যখন কোনও সাধারণ ভুল...        0\n",
              "12708  আমার মনে আছে যখন ইউকেতে দাতব্য অনুদানের জন্য এ...        1\n",
              "18107  আমি এতটাই নিরুৎসাহিত হয়ে পড়ছিলাম যে আমরা এই ...        0\n",
              "18692  আমি সত্যিই এটি কাটতে গিয়েছিলাম এটি আমার দুর্ভ...        0\n",
              "4949   সাম্প্রতিক সময়ে মেসির পারফরম্যান্স আর তাঁর শরী...        0\n",
              "21876  আমি বন্ধনগুলি আঁকতে শুরু করেছি এবং এটি কীভাবে ...        0\n",
              "17658  আমি আবহাওয়ার এই মাস্টারপিসকে আমার সম্পূর্ণ মন...        1\n",
              "2736   তার বাবা সেদিন আমাকে জড়িয়ে কাঁদলেন অনেকক্ষন । ...        0\n",
              "14640  আমি সুদর্শন q অনুভব করছি ওহ থেকে এই গানের কথাট...        1"
            ]
          },
          "metadata": {
            "tags": []
          },
          "execution_count": 28
        }
      ]
    },
    {
      "cell_type": "markdown",
      "metadata": {
        "id": "iilG--KTMxNu"
      },
      "source": [
        "# 2 . PreProcessing"
      ]
    },
    {
      "cell_type": "code",
      "metadata": {
        "id": "j6gGuCLFMokM",
        "colab": {
          "base_uri": "https://localhost:8080/",
          "height": 343
        },
        "outputId": "0ca76547-3699-40dd-824f-2160aac6e6f6"
      },
      "source": [
        "import BnPreprocessing as pp\n",
        "df['TEXT'] = df['TEXT'].apply(lambda x: pp.remove_punc(str(x)))\n",
        "df['TEXT'] = df['TEXT'].apply(lambda x: pp.remove_nonBangla(str(x)))\n",
        "df['TEXT'] = df['TEXT'].apply(lambda x: pp.remove_digits(str(x)))\n",
        "df['TEXT'] = df['TEXT'].apply(lambda x: pp.remove_emoticons(str(x)))\n",
        "\n",
        "# df['TEXT'] = df['TEXT'].apply(pp.remove_sw)\n",
        "df.head(10)"
      ],
      "execution_count": null,
      "outputs": [
        {
          "output_type": "execute_result",
          "data": {
            "text/html": [
              "<div>\n",
              "<style scoped>\n",
              "    .dataframe tbody tr th:only-of-type {\n",
              "        vertical-align: middle;\n",
              "    }\n",
              "\n",
              "    .dataframe tbody tr th {\n",
              "        vertical-align: top;\n",
              "    }\n",
              "\n",
              "    .dataframe thead th {\n",
              "        text-align: right;\n",
              "    }\n",
              "</style>\n",
              "<table border=\"1\" class=\"dataframe\">\n",
              "  <thead>\n",
              "    <tr style=\"text-align: right;\">\n",
              "      <th></th>\n",
              "      <th>TEXT</th>\n",
              "      <th>classes</th>\n",
              "    </tr>\n",
              "  </thead>\n",
              "  <tbody>\n",
              "    <tr>\n",
              "      <th>0</th>\n",
              "      <td>এ একটা জোস জিনিশ বার করল          এর মাঝামাঝি...</td>\n",
              "      <td>1</td>\n",
              "    </tr>\n",
              "    <tr>\n",
              "      <th>1</th>\n",
              "      <td>ভাই রে ভাই    কিরণ দত্ত একটা চিজ    ভালোবাসা ভাই</td>\n",
              "      <td>1</td>\n",
              "    </tr>\n",
              "    <tr>\n",
              "      <th>2</th>\n",
              "      <td>দাদা তোমাকে খুব ভালোবাসি  সবসময় তোমার ভিডিও দে...</td>\n",
              "      <td>1</td>\n",
              "    </tr>\n",
              "    <tr>\n",
              "      <th>3</th>\n",
              "      <td>ওভাই    কোন  অঞ্চলের বাংলা  ভাষা     না মানে ...</td>\n",
              "      <td>1</td>\n",
              "    </tr>\n",
              "    <tr>\n",
              "      <th>4</th>\n",
              "      <td>তোরে কে আঘাত দিয়েই আসলেই রিসেন্টলি আঘাত পাইসো...</td>\n",
              "      <td>1</td>\n",
              "    </tr>\n",
              "    <tr>\n",
              "      <th>5</th>\n",
              "      <td>ডাকাত বলসে হাহা  আমার ক্রাশ কে    আম্মাজান কি ...</td>\n",
              "      <td>1</td>\n",
              "    </tr>\n",
              "    <tr>\n",
              "      <th>6</th>\n",
              "      <td>রাজা খুব দ্রুত মারা গেলেন  তার সাদা আলখাল্লা র...</td>\n",
              "      <td>0</td>\n",
              "    </tr>\n",
              "    <tr>\n",
              "      <th>10</th>\n",
              "      <td>তার মুখ থেকেই শোনা যায়  আলেকজান্ডার যখন বুকেফ্...</td>\n",
              "      <td>1</td>\n",
              "    </tr>\n",
              "    <tr>\n",
              "      <th>12</th>\n",
              "      <td>আজ আমি অনেক খুশি হ্যাপি অনেক কারন আজকে আমি জিতসি</td>\n",
              "      <td>1</td>\n",
              "    </tr>\n",
              "    <tr>\n",
              "      <th>13</th>\n",
              "      <td>দ্য স্যাক্রেড ব্যান্ড অফ থিবস    জনের দুর্ধর...</td>\n",
              "      <td>0</td>\n",
              "    </tr>\n",
              "  </tbody>\n",
              "</table>\n",
              "</div>"
            ],
            "text/plain": [
              "                                                 TEXT  classes\n",
              "0    এ একটা জোস জিনিশ বার করল          এর মাঝামাঝি...        1\n",
              "1   ভাই রে ভাই    কিরণ দত্ত একটা চিজ    ভালোবাসা ভাই         1\n",
              "2   দাদা তোমাকে খুব ভালোবাসি  সবসময় তোমার ভিডিও দে...        1\n",
              "3    ওভাই    কোন  অঞ্চলের বাংলা  ভাষা     না মানে ...        1\n",
              "4    তোরে কে আঘাত দিয়েই আসলেই রিসেন্টলি আঘাত পাইসো...        1\n",
              "5   ডাকাত বলসে হাহা  আমার ক্রাশ কে    আম্মাজান কি ...        1\n",
              "6   রাজা খুব দ্রুত মারা গেলেন  তার সাদা আলখাল্লা র...        0\n",
              "10  তার মুখ থেকেই শোনা যায়  আলেকজান্ডার যখন বুকেফ্...        1\n",
              "12   আজ আমি অনেক খুশি হ্যাপি অনেক কারন আজকে আমি জিতসি        1\n",
              "13    দ্য স্যাক্রেড ব্যান্ড অফ থিবস    জনের দুর্ধর...        0"
            ]
          },
          "metadata": {
            "tags": []
          },
          "execution_count": 29
        }
      ]
    },
    {
      "cell_type": "code",
      "metadata": {
        "id": "lmRV5iUj-cHo"
      },
      "source": [
        "# def lemm(text):\n",
        "#   import BnLemma as lm\n",
        "#   bl = lm.Lemmatizer()\n",
        "#   try:\n",
        "#     return bl.lemma(text)\n",
        "#   except:\n",
        "#     return text\n",
        "# df.TEXT = df.TEXT.apply(lemm)"
      ],
      "execution_count": null,
      "outputs": []
    },
    {
      "cell_type": "markdown",
      "metadata": {
        "id": "DxoJGPspy_Er"
      },
      "source": [
        "0: 'anger', \n",
        "\n",
        "1: 'disgust', \n",
        "\n",
        "2: 'fear', \n",
        "\n",
        "3: 'joy', \n",
        "\n",
        "4: 'sadness', \n",
        "\n",
        "5: 'surprise'"
      ]
    },
    {
      "cell_type": "code",
      "metadata": {
        "id": "Iifsku_Pq-66"
      },
      "source": [
        "# len(df)-763+13\n",
        "# df.loc[24950:24970]\n",
        "# df[df.isna().any(axis=1)]"
      ],
      "execution_count": null,
      "outputs": []
    },
    {
      "cell_type": "markdown",
      "metadata": {
        "id": "acgkVEwNvRpA"
      },
      "source": [
        "# 3 . Train Test Split"
      ]
    },
    {
      "cell_type": "code",
      "metadata": {
        "id": "LH37DPw1YAkT"
      },
      "source": [
        "# df['classes'] = df['classes'].apply(lambda x: str(x))"
      ],
      "execution_count": null,
      "outputs": []
    },
    {
      "cell_type": "code",
      "metadata": {
        "id": "-dZ_9SA0YF0z"
      },
      "source": [
        "# from collections import Counter\n",
        "# Counter(y_train), Counter(y_test)"
      ],
      "execution_count": null,
      "outputs": []
    },
    {
      "cell_type": "code",
      "metadata": {
        "id": "_-yirl_SLsDd",
        "colab": {
          "base_uri": "https://localhost:8080/",
          "height": 70
        },
        "outputId": "21436194-2406-4e16-ce8a-3c027600c5c3"
      },
      "source": [
        "from sklearn.model_selection import train_test_split\n",
        "\n",
        "sentences = df['TEXT'].values\n",
        "target = df['classes'].values\n",
        "\n",
        "sentences_train, sentences_test, y_train, y_test = train_test_split(\n",
        "   sentences, target, test_size=0.2, random_state=1000)\n",
        "\n",
        "from sklearn.feature_extraction.text import TfidfVectorizer\n",
        "\n",
        "def tokenizer(text):\n",
        "  return text.split()\n",
        "\n",
        "# vectorizer = TfidfVectorizer(tokenizer = tokenizer, ngram_range=(1,2), max_df = 0.06, min_df = 0.0006)\n",
        "vectorizer = TfidfVectorizer(tokenizer = tokenizer, ngram_range=(1,1))\n",
        "vectorizer = vectorizer.fit(sentences_train)\n",
        "X_train = vectorizer.transform(sentences_train)\n",
        "X_test  = vectorizer.transform(sentences_test)"
      ],
      "execution_count": null,
      "outputs": [
        {
          "output_type": "stream",
          "text": [
            "/usr/local/lib/python3.6/dist-packages/sklearn/feature_extraction/text.py:507: UserWarning: The parameter 'token_pattern' will not be used since 'tokenizer' is not None'\n",
            "  warnings.warn(\"The parameter 'token_pattern' will not be used\"\n"
          ],
          "name": "stderr"
        }
      ]
    },
    {
      "cell_type": "code",
      "metadata": {
        "id": "jDswrgzRdnOH",
        "colab": {
          "base_uri": "https://localhost:8080/",
          "height": 50
        },
        "outputId": "b4684aa6-d3ac-4f62-e950-7930c25584e1"
      },
      "source": [
        "X_train"
      ],
      "execution_count": null,
      "outputs": [
        {
          "output_type": "execute_result",
          "data": {
            "text/plain": [
              "<11912x21774 sparse matrix of type '<class 'numpy.float64'>'\n",
              "\twith 201678 stored elements in Compressed Sparse Row format>"
            ]
          },
          "metadata": {
            "tags": []
          },
          "execution_count": 35
        }
      ]
    },
    {
      "cell_type": "code",
      "metadata": {
        "id": "lBF7Yj2zwY41",
        "colab": {
          "base_uri": "https://localhost:8080/",
          "height": 34
        },
        "outputId": "4a243eca-43c2-47fc-b87b-5f20f12aa237"
      },
      "source": [
        "map_class"
      ],
      "execution_count": null,
      "outputs": [
        {
          "output_type": "execute_result",
          "data": {
            "text/plain": [
              "{0: 'negative', 1: 'positive'}"
            ]
          },
          "metadata": {
            "tags": []
          },
          "execution_count": 36
        }
      ]
    },
    {
      "cell_type": "code",
      "metadata": {
        "id": "qekvfRao0PBN"
      },
      "source": [
        "def get_scores(y_test, y_pred):\n",
        "  from sklearn.metrics import accuracy_score,f1_score, precision_score, recall_score\n",
        "  # accuracy: (tp + tn) / (p + n)\n",
        "  accuracy = accuracy_score(y_test, y_pred)\n",
        "\n",
        "  # f1: 2 tp / (2 tp + fp + fn)\n",
        "  f1 = f1_score(y_test, y_pred,  average=None)\n",
        "\n",
        "  # precision:  tp / (tp + fp)\n",
        "  precision = precision_score(y_test, y_pred,  average=None)\n",
        "\n",
        "  # recall:  tp / (tp + fn)\n",
        "  recall = recall_score(y_test, y_pred,  average=None)\n",
        "\n",
        "  return {\n",
        "      'accuracy':accuracy,\n",
        "      'f1':f1, \n",
        "      'precision':precision, \n",
        "      'recall':recall\n",
        "  }\n",
        "\n",
        "def get_score_table(y_test, y_pred, metrics=None, map_class=map_class):\n",
        "    from prettytable import PrettyTable\n",
        "\n",
        "    if metrics is None : metrics = ['f1', 'precision', 'recall', 'accuracy']\n",
        "    dc= get_scores(y_test, y_pred)\n",
        "    if 'accuracy' in metrics:\n",
        "      print('Accuracy: {}'.format(dc['accuracy']))\n",
        "      metrics.remove('accuracy')\n",
        "\n",
        "    classes = list(set(df.classes.values))\n",
        "\n",
        "    t = PrettyTable(['class']+metrics)\n",
        "    for i in range(len(map_class)):\n",
        "        t.add_row([map_class[i]]+[dc[d][i] for d in metrics])\n",
        "    print(t)"
      ],
      "execution_count": null,
      "outputs": []
    },
    {
      "cell_type": "code",
      "metadata": {
        "id": "KJuNyP-ydJWx",
        "colab": {
          "base_uri": "https://localhost:8080/",
          "height": 134
        },
        "outputId": "3ac073cb-8c2c-4f24-cbbc-ca08333c16d0"
      },
      "source": [
        "from sklearn.linear_model import LogisticRegression\n",
        "\n",
        "classifier = LogisticRegression()\n",
        "classifier.fit(X_train, y_train)\n",
        "y_pred = classifier.predict(X_test)\n",
        "get_score_table(y_test, y_pred)"
      ],
      "execution_count": null,
      "outputs": [
        {
          "output_type": "stream",
          "text": [
            "Accuracy: 0.8596373404969778\n",
            "+----------+--------------------+--------------------+--------------------+\n",
            "|  class   |         f1         |     precision      |       recall       |\n",
            "+----------+--------------------+--------------------+--------------------+\n",
            "| negative | 0.8490974729241877 | 0.8691796008869179 | 0.8299223712067749 |\n",
            "| positive | 0.8688010043942247 | 0.8516923076923076 | 0.8866111467008329 |\n",
            "+----------+--------------------+--------------------+--------------------+\n"
          ],
          "name": "stdout"
        }
      ]
    },
    {
      "cell_type": "code",
      "metadata": {
        "id": "WSIYI7WcUnfz",
        "colab": {
          "base_uri": "https://localhost:8080/",
          "height": 84
        },
        "outputId": "fe5e5d97-b6cd-43e7-eed2-1c5cc96f2a48"
      },
      "source": [
        "get_scores(y_test, y_pred)"
      ],
      "execution_count": null,
      "outputs": [
        {
          "output_type": "execute_result",
          "data": {
            "text/plain": [
              "{'accuracy': 0.8596373404969778,\n",
              " 'f1': array([0.84909747, 0.868801  ]),\n",
              " 'precision': array([0.8691796 , 0.85169231]),\n",
              " 'recall': array([0.82992237, 0.88661115])}"
            ]
          },
          "metadata": {
            "tags": []
          },
          "execution_count": 40
        }
      ]
    },
    {
      "cell_type": "code",
      "metadata": {
        "id": "vzUf4NSM0QdQ",
        "colab": {
          "base_uri": "https://localhost:8080/",
          "height": 352
        },
        "outputId": "2a3bb86b-6fce-4c3d-8ce5-76972e74a1e6"
      },
      "source": [
        "from sklearn.svm import SVC\n",
        "classifier = SVC(kernel = 'linear', random_state = 0)\n",
        "classifier.fit(X_train, y_train)\n",
        "y_pred = classifier.predict(X_test)\n",
        "\n",
        "get_score_table(y_test, y_pred)"
      ],
      "execution_count": null,
      "outputs": [
        {
          "output_type": "stream",
          "text": [
            "Accuracy: 0.7935729847494554\n"
          ],
          "name": "stdout"
        },
        {
          "output_type": "error",
          "ename": "IndexError",
          "evalue": "ignored",
          "traceback": [
            "\u001b[0;31m---------------------------------------------------------------------------\u001b[0m",
            "\u001b[0;31mIndexError\u001b[0m                                Traceback (most recent call last)",
            "\u001b[0;32m<ipython-input-86-c9c8bcf3d986>\u001b[0m in \u001b[0;36m<module>\u001b[0;34m()\u001b[0m\n\u001b[1;32m      4\u001b[0m \u001b[0my_pred\u001b[0m \u001b[0;34m=\u001b[0m \u001b[0mclassifier\u001b[0m\u001b[0;34m.\u001b[0m\u001b[0mpredict\u001b[0m\u001b[0;34m(\u001b[0m\u001b[0mX_test\u001b[0m\u001b[0;34m)\u001b[0m\u001b[0;34m\u001b[0m\u001b[0;34m\u001b[0m\u001b[0m\n\u001b[1;32m      5\u001b[0m \u001b[0;34m\u001b[0m\u001b[0m\n\u001b[0;32m----> 6\u001b[0;31m \u001b[0mget_score_table\u001b[0m\u001b[0;34m(\u001b[0m\u001b[0my_test\u001b[0m\u001b[0;34m,\u001b[0m \u001b[0my_pred\u001b[0m\u001b[0;34m)\u001b[0m\u001b[0;34m\u001b[0m\u001b[0;34m\u001b[0m\u001b[0m\n\u001b[0m",
            "\u001b[0;32m<ipython-input-84-0858846bba22>\u001b[0m in \u001b[0;36mget_score_table\u001b[0;34m(y_test, y_pred, metrics)\u001b[0m\n\u001b[1;32m     33\u001b[0m     \u001b[0mt\u001b[0m \u001b[0;34m=\u001b[0m \u001b[0mPrettyTable\u001b[0m\u001b[0;34m(\u001b[0m\u001b[0;34m[\u001b[0m\u001b[0;34m'class'\u001b[0m\u001b[0;34m]\u001b[0m\u001b[0;34m+\u001b[0m\u001b[0mmetrics\u001b[0m\u001b[0;34m)\u001b[0m\u001b[0;34m\u001b[0m\u001b[0;34m\u001b[0m\u001b[0m\n\u001b[1;32m     34\u001b[0m     \u001b[0;32mfor\u001b[0m \u001b[0mi\u001b[0m \u001b[0;32min\u001b[0m \u001b[0mrange\u001b[0m\u001b[0;34m(\u001b[0m\u001b[0mlen\u001b[0m\u001b[0;34m(\u001b[0m\u001b[0mmap_class\u001b[0m\u001b[0;34m)\u001b[0m\u001b[0;34m)\u001b[0m\u001b[0;34m:\u001b[0m\u001b[0;34m\u001b[0m\u001b[0;34m\u001b[0m\u001b[0m\n\u001b[0;32m---> 35\u001b[0;31m         \u001b[0mt\u001b[0m\u001b[0;34m.\u001b[0m\u001b[0madd_row\u001b[0m\u001b[0;34m(\u001b[0m\u001b[0;34m[\u001b[0m\u001b[0mmap_class\u001b[0m\u001b[0;34m[\u001b[0m\u001b[0mi\u001b[0m\u001b[0;34m]\u001b[0m\u001b[0;34m]\u001b[0m\u001b[0;34m+\u001b[0m\u001b[0;34m[\u001b[0m\u001b[0mdc\u001b[0m\u001b[0;34m[\u001b[0m\u001b[0md\u001b[0m\u001b[0;34m]\u001b[0m\u001b[0;34m[\u001b[0m\u001b[0mi\u001b[0m\u001b[0;34m]\u001b[0m \u001b[0;32mfor\u001b[0m \u001b[0md\u001b[0m \u001b[0;32min\u001b[0m \u001b[0mmetrics\u001b[0m\u001b[0;34m]\u001b[0m\u001b[0;34m)\u001b[0m\u001b[0;34m\u001b[0m\u001b[0;34m\u001b[0m\u001b[0m\n\u001b[0m\u001b[1;32m     36\u001b[0m     \u001b[0mprint\u001b[0m\u001b[0;34m(\u001b[0m\u001b[0mt\u001b[0m\u001b[0;34m)\u001b[0m\u001b[0;34m\u001b[0m\u001b[0;34m\u001b[0m\u001b[0m\n",
            "\u001b[0;32m<ipython-input-84-0858846bba22>\u001b[0m in \u001b[0;36m<listcomp>\u001b[0;34m(.0)\u001b[0m\n\u001b[1;32m     33\u001b[0m     \u001b[0mt\u001b[0m \u001b[0;34m=\u001b[0m \u001b[0mPrettyTable\u001b[0m\u001b[0;34m(\u001b[0m\u001b[0;34m[\u001b[0m\u001b[0;34m'class'\u001b[0m\u001b[0;34m]\u001b[0m\u001b[0;34m+\u001b[0m\u001b[0mmetrics\u001b[0m\u001b[0;34m)\u001b[0m\u001b[0;34m\u001b[0m\u001b[0;34m\u001b[0m\u001b[0m\n\u001b[1;32m     34\u001b[0m     \u001b[0;32mfor\u001b[0m \u001b[0mi\u001b[0m \u001b[0;32min\u001b[0m \u001b[0mrange\u001b[0m\u001b[0;34m(\u001b[0m\u001b[0mlen\u001b[0m\u001b[0;34m(\u001b[0m\u001b[0mmap_class\u001b[0m\u001b[0;34m)\u001b[0m\u001b[0;34m)\u001b[0m\u001b[0;34m:\u001b[0m\u001b[0;34m\u001b[0m\u001b[0;34m\u001b[0m\u001b[0m\n\u001b[0;32m---> 35\u001b[0;31m         \u001b[0mt\u001b[0m\u001b[0;34m.\u001b[0m\u001b[0madd_row\u001b[0m\u001b[0;34m(\u001b[0m\u001b[0;34m[\u001b[0m\u001b[0mmap_class\u001b[0m\u001b[0;34m[\u001b[0m\u001b[0mi\u001b[0m\u001b[0;34m]\u001b[0m\u001b[0;34m]\u001b[0m\u001b[0;34m+\u001b[0m\u001b[0;34m[\u001b[0m\u001b[0mdc\u001b[0m\u001b[0;34m[\u001b[0m\u001b[0md\u001b[0m\u001b[0;34m]\u001b[0m\u001b[0;34m[\u001b[0m\u001b[0mi\u001b[0m\u001b[0;34m]\u001b[0m \u001b[0;32mfor\u001b[0m \u001b[0md\u001b[0m \u001b[0;32min\u001b[0m \u001b[0mmetrics\u001b[0m\u001b[0;34m]\u001b[0m\u001b[0;34m)\u001b[0m\u001b[0;34m\u001b[0m\u001b[0;34m\u001b[0m\u001b[0m\n\u001b[0m\u001b[1;32m     36\u001b[0m     \u001b[0mprint\u001b[0m\u001b[0;34m(\u001b[0m\u001b[0mt\u001b[0m\u001b[0;34m)\u001b[0m\u001b[0;34m\u001b[0m\u001b[0;34m\u001b[0m\u001b[0m\n",
            "\u001b[0;31mIndexError\u001b[0m: index 3 is out of bounds for axis 0 with size 3"
          ]
        }
      ]
    },
    {
      "cell_type": "code",
      "metadata": {
        "id": "n-8BN63z6YhE",
        "colab": {
          "base_uri": "https://localhost:8080/",
          "height": 352
        },
        "outputId": "7484a6c4-77b6-4dab-85bc-812715b6ddd9"
      },
      "source": [
        "from sklearn.naive_bayes import MultinomialNB\n",
        "classifier = MultinomialNB()\n",
        "classifier.fit(X_train.toarray(), y_train)\n",
        "y_pred = classifier.predict(X_test.toarray())\n",
        "\n",
        "get_score_table(y_test, y_pred)"
      ],
      "execution_count": null,
      "outputs": [
        {
          "output_type": "stream",
          "text": [
            "Accuracy: 0.7260348583877996\n"
          ],
          "name": "stdout"
        },
        {
          "output_type": "error",
          "ename": "IndexError",
          "evalue": "ignored",
          "traceback": [
            "\u001b[0;31m---------------------------------------------------------------------------\u001b[0m",
            "\u001b[0;31mIndexError\u001b[0m                                Traceback (most recent call last)",
            "\u001b[0;32m<ipython-input-87-ecbfb55fa3a0>\u001b[0m in \u001b[0;36m<module>\u001b[0;34m()\u001b[0m\n\u001b[1;32m      4\u001b[0m \u001b[0my_pred\u001b[0m \u001b[0;34m=\u001b[0m \u001b[0mclassifier\u001b[0m\u001b[0;34m.\u001b[0m\u001b[0mpredict\u001b[0m\u001b[0;34m(\u001b[0m\u001b[0mX_test\u001b[0m\u001b[0;34m.\u001b[0m\u001b[0mtoarray\u001b[0m\u001b[0;34m(\u001b[0m\u001b[0;34m)\u001b[0m\u001b[0;34m)\u001b[0m\u001b[0;34m\u001b[0m\u001b[0;34m\u001b[0m\u001b[0m\n\u001b[1;32m      5\u001b[0m \u001b[0;34m\u001b[0m\u001b[0m\n\u001b[0;32m----> 6\u001b[0;31m \u001b[0mget_score_table\u001b[0m\u001b[0;34m(\u001b[0m\u001b[0my_test\u001b[0m\u001b[0;34m,\u001b[0m \u001b[0my_pred\u001b[0m\u001b[0;34m)\u001b[0m\u001b[0;34m\u001b[0m\u001b[0;34m\u001b[0m\u001b[0m\n\u001b[0m",
            "\u001b[0;32m<ipython-input-84-0858846bba22>\u001b[0m in \u001b[0;36mget_score_table\u001b[0;34m(y_test, y_pred, metrics)\u001b[0m\n\u001b[1;32m     33\u001b[0m     \u001b[0mt\u001b[0m \u001b[0;34m=\u001b[0m \u001b[0mPrettyTable\u001b[0m\u001b[0;34m(\u001b[0m\u001b[0;34m[\u001b[0m\u001b[0;34m'class'\u001b[0m\u001b[0;34m]\u001b[0m\u001b[0;34m+\u001b[0m\u001b[0mmetrics\u001b[0m\u001b[0;34m)\u001b[0m\u001b[0;34m\u001b[0m\u001b[0;34m\u001b[0m\u001b[0m\n\u001b[1;32m     34\u001b[0m     \u001b[0;32mfor\u001b[0m \u001b[0mi\u001b[0m \u001b[0;32min\u001b[0m \u001b[0mrange\u001b[0m\u001b[0;34m(\u001b[0m\u001b[0mlen\u001b[0m\u001b[0;34m(\u001b[0m\u001b[0mmap_class\u001b[0m\u001b[0;34m)\u001b[0m\u001b[0;34m)\u001b[0m\u001b[0;34m:\u001b[0m\u001b[0;34m\u001b[0m\u001b[0;34m\u001b[0m\u001b[0m\n\u001b[0;32m---> 35\u001b[0;31m         \u001b[0mt\u001b[0m\u001b[0;34m.\u001b[0m\u001b[0madd_row\u001b[0m\u001b[0;34m(\u001b[0m\u001b[0;34m[\u001b[0m\u001b[0mmap_class\u001b[0m\u001b[0;34m[\u001b[0m\u001b[0mi\u001b[0m\u001b[0;34m]\u001b[0m\u001b[0;34m]\u001b[0m\u001b[0;34m+\u001b[0m\u001b[0;34m[\u001b[0m\u001b[0mdc\u001b[0m\u001b[0;34m[\u001b[0m\u001b[0md\u001b[0m\u001b[0;34m]\u001b[0m\u001b[0;34m[\u001b[0m\u001b[0mi\u001b[0m\u001b[0;34m]\u001b[0m \u001b[0;32mfor\u001b[0m \u001b[0md\u001b[0m \u001b[0;32min\u001b[0m \u001b[0mmetrics\u001b[0m\u001b[0;34m]\u001b[0m\u001b[0;34m)\u001b[0m\u001b[0;34m\u001b[0m\u001b[0;34m\u001b[0m\u001b[0m\n\u001b[0m\u001b[1;32m     36\u001b[0m     \u001b[0mprint\u001b[0m\u001b[0;34m(\u001b[0m\u001b[0mt\u001b[0m\u001b[0;34m)\u001b[0m\u001b[0;34m\u001b[0m\u001b[0;34m\u001b[0m\u001b[0m\n",
            "\u001b[0;32m<ipython-input-84-0858846bba22>\u001b[0m in \u001b[0;36m<listcomp>\u001b[0;34m(.0)\u001b[0m\n\u001b[1;32m     33\u001b[0m     \u001b[0mt\u001b[0m \u001b[0;34m=\u001b[0m \u001b[0mPrettyTable\u001b[0m\u001b[0;34m(\u001b[0m\u001b[0;34m[\u001b[0m\u001b[0;34m'class'\u001b[0m\u001b[0;34m]\u001b[0m\u001b[0;34m+\u001b[0m\u001b[0mmetrics\u001b[0m\u001b[0;34m)\u001b[0m\u001b[0;34m\u001b[0m\u001b[0;34m\u001b[0m\u001b[0m\n\u001b[1;32m     34\u001b[0m     \u001b[0;32mfor\u001b[0m \u001b[0mi\u001b[0m \u001b[0;32min\u001b[0m \u001b[0mrange\u001b[0m\u001b[0;34m(\u001b[0m\u001b[0mlen\u001b[0m\u001b[0;34m(\u001b[0m\u001b[0mmap_class\u001b[0m\u001b[0;34m)\u001b[0m\u001b[0;34m)\u001b[0m\u001b[0;34m:\u001b[0m\u001b[0;34m\u001b[0m\u001b[0;34m\u001b[0m\u001b[0m\n\u001b[0;32m---> 35\u001b[0;31m         \u001b[0mt\u001b[0m\u001b[0;34m.\u001b[0m\u001b[0madd_row\u001b[0m\u001b[0;34m(\u001b[0m\u001b[0;34m[\u001b[0m\u001b[0mmap_class\u001b[0m\u001b[0;34m[\u001b[0m\u001b[0mi\u001b[0m\u001b[0;34m]\u001b[0m\u001b[0;34m]\u001b[0m\u001b[0;34m+\u001b[0m\u001b[0;34m[\u001b[0m\u001b[0mdc\u001b[0m\u001b[0;34m[\u001b[0m\u001b[0md\u001b[0m\u001b[0;34m]\u001b[0m\u001b[0;34m[\u001b[0m\u001b[0mi\u001b[0m\u001b[0;34m]\u001b[0m \u001b[0;32mfor\u001b[0m \u001b[0md\u001b[0m \u001b[0;32min\u001b[0m \u001b[0mmetrics\u001b[0m\u001b[0;34m]\u001b[0m\u001b[0;34m)\u001b[0m\u001b[0;34m\u001b[0m\u001b[0;34m\u001b[0m\u001b[0m\n\u001b[0m\u001b[1;32m     36\u001b[0m     \u001b[0mprint\u001b[0m\u001b[0;34m(\u001b[0m\u001b[0mt\u001b[0m\u001b[0;34m)\u001b[0m\u001b[0;34m\u001b[0m\u001b[0;34m\u001b[0m\u001b[0m\n",
            "\u001b[0;31mIndexError\u001b[0m: index 3 is out of bounds for axis 0 with size 3"
          ]
        }
      ]
    },
    {
      "cell_type": "markdown",
      "metadata": {
        "id": "fHLpj8HPpACH"
      },
      "source": [
        "# 6 . DNN Approach"
      ]
    },
    {
      "cell_type": "markdown",
      "metadata": {
        "id": "-Dgf8HiX0ZM4"
      },
      "source": [
        "### 6.1 Defining necessary functions"
      ]
    },
    {
      "cell_type": "code",
      "metadata": {
        "id": "eeqKNFe2tH6u"
      },
      "source": [
        "import matplotlib.pyplot as plt\n",
        "plt.style.use('ggplot')\n",
        "\n",
        "def plot_history(history):\n",
        "    acc = history['accuracy']\n",
        "    val_acc = history['val_accuracy']\n",
        "    loss = history['loss']\n",
        "    val_loss = history['val_loss']\n",
        "    x = range(1, len(acc) + 1)\n",
        "\n",
        "    plt.figure(figsize=(12, 5))\n",
        "    plt.subplot(1, 2, 1)\n",
        "    plt.plot(x, acc, 'b', label='Training acc')\n",
        "    plt.plot(x, val_acc, 'r', label='Validation acc')\n",
        "    plt.title('Training and validation accuracy')\n",
        "    plt.legend()\n",
        "    plt.subplot(1, 2, 2)\n",
        "    plt.plot(x, loss, 'b', label='Training loss')\n",
        "    plt.plot(x, val_loss, 'r', label='Validation loss')\n",
        "    plt.title('Training and validation loss')\n",
        "    plt.legend()"
      ],
      "execution_count": null,
      "outputs": []
    },
    {
      "cell_type": "code",
      "metadata": {
        "id": "RXSORinlL7Jc",
        "colab": {
          "base_uri": "https://localhost:8080/",
          "height": 35
        },
        "outputId": "7f71911d-1b20-45b0-adab-17740e14705c"
      },
      "source": [
        "from keras.utils import to_categorical\n",
        "y_train = to_categorical(y_train)\n",
        "y_test = to_categorical(y_test)\n",
        "y_train.shape"
      ],
      "execution_count": null,
      "outputs": [
        {
          "output_type": "execute_result",
          "data": {
            "text/plain": [
              "(14686, 3)"
            ]
          },
          "metadata": {
            "tags": []
          },
          "execution_count": 122
        }
      ]
    },
    {
      "cell_type": "code",
      "metadata": {
        "id": "wz3ZWBhrUlcs",
        "colab": {
          "base_uri": "https://localhost:8080/",
          "height": 124
        },
        "outputId": "15dde75e-bd16-44e9-d774-1c28a1e3fa65"
      },
      "source": [
        "sentences_train"
      ],
      "execution_count": null,
      "outputs": [
        {
          "output_type": "execute_result",
          "data": {
            "text/plain": [
              "array(['আমি অবশ্যই ঘৃণা বোধ করছি',\n",
              "       'আমি তাদের উপযুক্ত হতে চাই বিশেষত যখন আমি ব্যঙ্গাত্মক ক্রোন অনুভব করছি',\n",
              "       'আমি করুণ অনুভব করছি যেন আমার কোনও অর্থ নেই', ...,\n",
              "       'আমি বাদামি স্টাফের বিরুদ্ধে জয়কে দ্বিগুণ করেছি আমরা রবিবার সত্যিই আশাবাদী বোধ করে ফিরে এসেছি এবং আরও দুর্দান্ত টেনিস দিয়ে ভরা অন্য এক দিনের প্রত্যাশায় রয়েছি',\n",
              "       'আমি সত্যিই লোভী বোধ করি তবে আমি তাকে জড়িয়ে ধরতে পছন্দ করি',\n",
              "       'আমি অনুভব করি যে অনুদানটি বাতিল হয়ে গেছে'], dtype=object)"
            ]
          },
          "metadata": {
            "tags": []
          },
          "execution_count": 123
        }
      ]
    },
    {
      "cell_type": "code",
      "metadata": {
        "id": "pbWzT4qiPj1h"
      },
      "source": [
        "from keras.models import Sequential\n",
        "from keras import layers\n",
        "import tensorflow as tf\n",
        "import tensorflow \n",
        "import numpy as np\n",
        "from tensorflow.keras.preprocessing.text import Tokenizer\n",
        "from tensorflow.keras.preprocessing.sequence import pad_sequences\n",
        "\n",
        "\n",
        "vocab_size = 20000\n",
        "embedding_dim = 35\n",
        "max_length = 20\n",
        "trunc_type = 'post'\n",
        "padding_type = 'post'\n",
        "oov_tok = '<OOV>'\n",
        "training_portion = .8"
      ],
      "execution_count": null,
      "outputs": []
    },
    {
      "cell_type": "markdown",
      "metadata": {
        "id": "JYmb5zuc1HcH"
      },
      "source": [
        "### 6.3 Design The layers and Fit the mdoel"
      ]
    },
    {
      "cell_type": "code",
      "metadata": {
        "id": "9kzJ7ZG79uTn",
        "colab": {
          "base_uri": "https://localhost:8080/",
          "height": 194
        },
        "outputId": "bed18595-552d-4e27-9728-04c6cd82e98b"
      },
      "source": [
        "tokenizer = Tokenizer(num_words = vocab_size, oov_token=oov_tok)\n",
        "tokenizer.fit_on_texts(sentences_train)\n",
        "word_index = tokenizer.word_index\n",
        "dict(list(word_index.items())[0:10])"
      ],
      "execution_count": null,
      "outputs": [
        {
          "output_type": "execute_result",
          "data": {
            "text/plain": [
              "{'<OOV>': 1,\n",
              " 'অনুভব': 10,\n",
              " 'আমার': 5,\n",
              " 'আমি': 2,\n",
              " 'এবং': 3,\n",
              " 'করি': 4,\n",
              " 'না': 8,\n",
              " 'বোধ': 6,\n",
              " 'মনে': 9,\n",
              " 'যে': 7}"
            ]
          },
          "metadata": {
            "tags": []
          },
          "execution_count": 67
        }
      ]
    },
    {
      "cell_type": "code",
      "metadata": {
        "id": "U_9nFrcFWINz",
        "colab": {
          "base_uri": "https://localhost:8080/",
          "height": 34
        },
        "outputId": "623698d9-6e6c-4077-a20f-19763487069c"
      },
      "source": [
        "len(word_index)"
      ],
      "execution_count": null,
      "outputs": [
        {
          "output_type": "execute_result",
          "data": {
            "text/plain": [
              "21776"
            ]
          },
          "metadata": {
            "tags": []
          },
          "execution_count": 68
        }
      ]
    },
    {
      "cell_type": "code",
      "metadata": {
        "id": "xONTnJKxpKkc",
        "colab": {
          "base_uri": "https://localhost:8080/",
          "height": 34
        },
        "outputId": "ce13c0df-b89c-452e-d822-36f77c1b6e3a"
      },
      "source": [
        "train_sequences = tokenizer.texts_to_sequences(sentences_train)\n",
        "print(train_sequences[10])"
      ],
      "execution_count": null,
      "outputs": [
        {
          "output_type": "stream",
          "text": [
            "[4800, 717, 12, 5, 84, 161]\n"
          ],
          "name": "stdout"
        }
      ]
    },
    {
      "cell_type": "code",
      "metadata": {
        "id": "odkJtFtKpahO",
        "colab": {
          "base_uri": "https://localhost:8080/",
          "height": 123
        },
        "outputId": "d6f6eda8-a797-453f-e3e6-97cdd52212d3"
      },
      "source": [
        "train_padded = pad_sequences(train_sequences, maxlen=max_length, padding=padding_type, truncating=trunc_type)\n",
        "print(len(train_sequences[0]))\n",
        "print(len(train_padded[0]))\n",
        "\n",
        "print(len(train_sequences[1]))\n",
        "print(len(train_padded[1]))\n",
        "\n",
        "print(len(train_sequences[10]))\n",
        "print(len(train_padded[10]))"
      ],
      "execution_count": null,
      "outputs": [
        {
          "output_type": "stream",
          "text": [
            "34\n",
            "20\n",
            "18\n",
            "20\n",
            "6\n",
            "20\n"
          ],
          "name": "stdout"
        }
      ]
    },
    {
      "cell_type": "code",
      "metadata": {
        "id": "ewbJeC3DWl5B",
        "colab": {
          "base_uri": "https://localhost:8080/",
          "height": 52
        },
        "outputId": "a1b3b00a-1357-4072-ad2b-a529ae5b7350"
      },
      "source": [
        "print(train_padded[10])"
      ],
      "execution_count": null,
      "outputs": [
        {
          "output_type": "stream",
          "text": [
            "[4800  717   12    5   84  161    0    0    0    0    0    0    0    0\n",
            "    0    0    0    0    0    0]\n"
          ],
          "name": "stdout"
        }
      ]
    },
    {
      "cell_type": "code",
      "metadata": {
        "id": "kLtdFZaUWl2O"
      },
      "source": [
        "validation_sequences = tokenizer.texts_to_sequences(sentences_test)\n",
        "validation_padded = pad_sequences(validation_sequences, maxlen=max_length, padding=padding_type, truncating=trunc_type)\n",
        "\n",
        "# label_tokenizer = Tokenizer()\n",
        "# label_tokenizer.fit_on_texts(df['classes'])\n",
        "# training_label_seq = np.array(label_tokenizer.texts_to_sequences(y_train))\n",
        "# validation_label_seq = np.array(label_tokenizer.texts_to_sequences(y_test))"
      ],
      "execution_count": null,
      "outputs": []
    },
    {
      "cell_type": "code",
      "metadata": {
        "id": "Pn3NlYpyW-8m",
        "colab": {
          "base_uri": "https://localhost:8080/",
          "height": 70
        },
        "outputId": "b1e4a962-f24d-4794-a09c-7379aeffc637"
      },
      "source": [
        "reverse_word_index = dict([(value, key) for (key, value) in word_index.items()])\n",
        "\n",
        "def decode_article(text):\n",
        "    return ' '.join([reverse_word_index.get(i, '?') for i in text])\n",
        "print(decode_article(train_padded[10]))\n",
        "print('---')\n",
        "print(sentences_train[10])"
      ],
      "execution_count": null,
      "outputs": [
        {
          "output_type": "stream",
          "text": [
            "নিয়মের সন্ধান করতে আমার খারাপ লাগছে ? ? ? ? ? ? ? ? ? ? ? ? ? ?\n",
            "---\n",
            "নিয়মের সন্ধান করতে আমার খারাপ লাগছে\n"
          ],
          "name": "stdout"
        }
      ]
    },
    {
      "cell_type": "code",
      "metadata": {
        "id": "2A_P7eR7W-6E"
      },
      "source": [
        "# model = tf.keras.Sequential([\n",
        "#     # Add an Embedding layer expecting input vocab of size 5000, and output embedding dimension of size 64 we set at the top\n",
        "#     tf.keras.layers.Embedding(vocab_size, embedding_dim),\n",
        "#     # tf.keras.layers.Conv1D(32, 5, activation='relu'),\n",
        "#     # tf.keras.layers.MaxPooling1D(),\n",
        "#     tf.keras.layers.Bidirectional(tf.keras.layers.LSTM(embedding_dim)),\n",
        "# #    tf.keras.layers.Bidirectional(tf.keras.layers.LSTM(32)),\n",
        "#     # use ReLU in place of tanh function since they are very good alternatives of each other.\n",
        "#     tf.keras.layers.Dense(32, activation='relu'),\n",
        "#     # Add a Dense layer with 6 units and softmax activation.\n",
        "#     # When we have multiple outputs, softmax convert outputs layers into a probability distribution.\n",
        "#     tf.keras.layers.Dense(6, activation='softmax')\n",
        "# ])\n",
        "# model.summary()\n",
        "\n",
        "model = Sequential()\n",
        "model.add(layers.Embedding(vocab_size, embedding_dim))\n",
        "# model.add(layers.Conv1D(32, 5, activation='relu'))\n",
        "# model.add(layers.MaxPooling1D())\n",
        "# model.add(layers.Dropout(0.3))\n",
        "model.add(layers.Bidirectional(layers.LSTM(embedding_dim)))\n",
        "model.add(layers.Dense(32, activation='relu'))\n",
        "model.add(layers.Dense(2, activation='softmax'))"
      ],
      "execution_count": null,
      "outputs": []
    },
    {
      "cell_type": "code",
      "metadata": {
        "id": "54SAHxdJUXHm",
        "colab": {
          "base_uri": "https://localhost:8080/",
          "height": 301
        },
        "outputId": "74ad62b3-540d-4423-d418-947f72a70d32"
      },
      "source": [
        "opt = tensorflow.keras.optimizers.RMSprop(learning_rate=0.001)\n",
        "model.compile(loss='logcosh', \n",
        "              optimizer=opt, \n",
        "              metrics=['accuracy'])\n",
        "model.summary()"
      ],
      "execution_count": null,
      "outputs": [
        {
          "output_type": "stream",
          "text": [
            "Model: \"sequential_4\"\n",
            "_________________________________________________________________\n",
            "Layer (type)                 Output Shape              Param #   \n",
            "=================================================================\n",
            "embedding_4 (Embedding)      (None, None, 35)          700000    \n",
            "_________________________________________________________________\n",
            "bidirectional_4 (Bidirection (None, 70)                19880     \n",
            "_________________________________________________________________\n",
            "dense_8 (Dense)              (None, 32)                2272      \n",
            "_________________________________________________________________\n",
            "dense_9 (Dense)              (None, 2)                 66        \n",
            "=================================================================\n",
            "Total params: 722,218\n",
            "Trainable params: 722,218\n",
            "Non-trainable params: 0\n",
            "_________________________________________________________________\n"
          ],
          "name": "stdout"
        }
      ]
    },
    {
      "cell_type": "code",
      "metadata": {
        "id": "vzfVLSGAZNES",
        "colab": {
          "base_uri": "https://localhost:8080/",
          "height": 550
        },
        "outputId": "7e1576b3-5e28-4069-d0c8-5c372dc253c0"
      },
      "source": [
        "num_epochs = 15\n",
        "batch_size = 30\n",
        "history = model.fit(train_padded, y_train, \n",
        "                    epochs=num_epochs, \n",
        "                    validation_data=(validation_padded, y_test),\n",
        "                    # batch_size=batch_size,\n",
        "                    verbose=True)"
      ],
      "execution_count": null,
      "outputs": [
        {
          "output_type": "stream",
          "text": [
            "Epoch 1/15\n",
            "373/373 [==============================] - 5s 15ms/step - loss: 0.0812 - accuracy: 0.7295 - val_loss: 0.0587 - val_accuracy: 0.8220\n",
            "Epoch 2/15\n",
            "373/373 [==============================] - 6s 15ms/step - loss: 0.0389 - accuracy: 0.8870 - val_loss: 0.0503 - val_accuracy: 0.8455\n",
            "Epoch 3/15\n",
            "373/373 [==============================] - 6s 15ms/step - loss: 0.0284 - accuracy: 0.9182 - val_loss: 0.0526 - val_accuracy: 0.8472\n",
            "Epoch 4/15\n",
            "373/373 [==============================] - 6s 15ms/step - loss: 0.0234 - accuracy: 0.9347 - val_loss: 0.0551 - val_accuracy: 0.8381\n",
            "Epoch 5/15\n",
            "373/373 [==============================] - 6s 16ms/step - loss: 0.0196 - accuracy: 0.9456 - val_loss: 0.0519 - val_accuracy: 0.8482\n",
            "Epoch 6/15\n",
            "373/373 [==============================] - 6s 16ms/step - loss: 0.0173 - accuracy: 0.9507 - val_loss: 0.0535 - val_accuracy: 0.8482\n",
            "Epoch 7/15\n",
            "373/373 [==============================] - 6s 15ms/step - loss: 0.0152 - accuracy: 0.9588 - val_loss: 0.0560 - val_accuracy: 0.8486\n",
            "Epoch 8/15\n",
            "373/373 [==============================] - 6s 15ms/step - loss: 0.0136 - accuracy: 0.9618 - val_loss: 0.0580 - val_accuracy: 0.8385\n",
            "Epoch 9/15\n",
            "373/373 [==============================] - 6s 15ms/step - loss: 0.0117 - accuracy: 0.9674 - val_loss: 0.0550 - val_accuracy: 0.8475\n",
            "Epoch 10/15\n",
            "373/373 [==============================] - 6s 15ms/step - loss: 0.0102 - accuracy: 0.9723 - val_loss: 0.0554 - val_accuracy: 0.8496\n",
            "Epoch 11/15\n",
            "373/373 [==============================] - 6s 15ms/step - loss: 0.0087 - accuracy: 0.9767 - val_loss: 0.0608 - val_accuracy: 0.8358\n",
            "Epoch 12/15\n",
            "373/373 [==============================] - 6s 15ms/step - loss: 0.0077 - accuracy: 0.9801 - val_loss: 0.0602 - val_accuracy: 0.8408\n",
            "Epoch 13/15\n",
            "373/373 [==============================] - 6s 15ms/step - loss: 0.0066 - accuracy: 0.9826 - val_loss: 0.0575 - val_accuracy: 0.8459\n",
            "Epoch 14/15\n",
            "373/373 [==============================] - 6s 15ms/step - loss: 0.0054 - accuracy: 0.9869 - val_loss: 0.0618 - val_accuracy: 0.8422\n",
            "Epoch 15/15\n",
            "373/373 [==============================] - 6s 15ms/step - loss: 0.0047 - accuracy: 0.9877 - val_loss: 0.0654 - val_accuracy: 0.8328\n"
          ],
          "name": "stdout"
        }
      ]
    },
    {
      "cell_type": "markdown",
      "metadata": {
        "id": "6gHvFIqf1Yq8"
      },
      "source": [
        "### 6.4 Evaluation metrics with plotting"
      ]
    },
    {
      "cell_type": "code",
      "metadata": {
        "id": "o8xvB5XAuVP0",
        "colab": {
          "base_uri": "https://localhost:8080/",
          "height": 336
        },
        "outputId": "9f0594bd-8637-4573-9649-bc8f2b142aa2"
      },
      "source": [
        "plot_history(history.history)"
      ],
      "execution_count": null,
      "outputs": [
        {
          "output_type": "display_data",
          "data": {
            "image/png": "[encoded data removed]",
            "text/plain": [
              "<Figure size 864x360 with 2 Axes>"
            ]
          },
          "metadata": {
            "tags": []
          }
        }
      ]
    },
    {
      "cell_type": "markdown",
      "metadata": {
        "id": "NyxNaQefCGDZ"
      },
      "source": [
        "# Attention"
      ]
    },
    {
      "cell_type": "code",
      "metadata": {
        "id": "7IwzdH95np1e"
      },
      "source": [
        ""
      ],
      "execution_count": null,
      "outputs": []
    },
    {
      "cell_type": "code",
      "metadata": {
        "id": "7AbstrPICDvw",
        "colab": {
          "base_uri": "https://localhost:8080/",
          "height": 712
        },
        "outputId": "cdb847ea-7ef3-4a83-f567-616700b30ae0"
      },
      "source": [
        "class Attention(tf.keras.Model):\n",
        "    def __init__(self, units):\n",
        "        super(Attention, self).__init__()\n",
        "        self.W1 = tf.keras.layers.Dense(units)\n",
        "        self.W2 = tf.keras.layers.Dense(units)\n",
        "        self.V = tf.keras.layers.Dense(1)\n",
        "\n",
        "    def call(self, features, hidden):\n",
        "        hidden_with_time_axis = tf.expand_dims(hidden, 1)\n",
        "        score = tf.nn.tanh(self.W1(features) + self.W2(hidden_with_time_axis))\n",
        "        attention_weights = tf.nn.softmax(self.V(score), axis=1)\n",
        "        context_vector = attention_weights * features\n",
        "        context_vector = tf.reduce_sum(context_vector, axis=1)\n",
        "\n",
        "        return context_vector, attention_weights\n",
        "\n",
        "import tensorflow as tf\n",
        "from keras_preprocessing import sequence\n",
        "# from tensorflow import keras\n",
        "# from tensorflow.keras import Input\n",
        "# from tensorflow.keras.layers import Concatenate\n",
        "\n",
        "sequence_input = tf.keras.Input(shape=(max_length,), dtype='int32')\n",
        "embedded_sequences = tf.keras.layers.Embedding(vocab_size, embedding_dim, input_length=max_length)(sequence_input)\n",
        "tdist = tf.keras.layers.TimeDistributed(tf.keras.layers.Dense(100,activation='relu'))(embedded_sequences)\n",
        "lstm = tf.keras.layers.Bidirectional(tf.keras.layers.LSTM\n",
        "                                     (embedding_dim,\n",
        "                                      dropout=0.2,\n",
        "                                      return_sequences=True,\n",
        "                                      return_state=True,\n",
        "                                      recurrent_activation='relu',\n",
        "                                      recurrent_initializer='glorot_uniform'), name=\"bi_lstm_0\")(tdist)\n",
        "\n",
        "lstm, forward_h, forward_c, backward_h, backward_c = tf.keras.layers.Bidirectional \\\n",
        "    (tf.keras.layers.LSTM\n",
        "     (embedding_dim,\n",
        "      dropout=0.2,\n",
        "      return_sequences=True,\n",
        "      return_state=True,\n",
        "      recurrent_activation='relu',\n",
        "      recurrent_initializer='glorot_uniform'))(lstm)\n",
        "\n",
        "state_h = tf.keras.layers.Concatenate()([forward_h, backward_h])\n",
        "state_c = tf.keras.layers.Concatenate()([forward_c, backward_c])\n",
        "attention = Attention(35)\n",
        "context_vector, attention_weights = attention(lstm, state_h)\n",
        "fmod = tf.keras.layers.Flatten()(context_vector)\n",
        "output = tf.keras.layers.Dense(2, activation='softmax')(fmod)\n",
        "\n",
        "model = tf.keras.Model(inputs=sequence_input, outputs=output)\n",
        "model.summary()"
      ],
      "execution_count": null,
      "outputs": [
        {
          "output_type": "stream",
          "text": [
            "WARNING:tensorflow:Layer lstm_7 will not use cuDNN kernel since it doesn't meet the cuDNN kernel criteria. It will use generic GPU kernel as fallback when running on GPU\n",
            "WARNING:tensorflow:Layer lstm_7 will not use cuDNN kernel since it doesn't meet the cuDNN kernel criteria. It will use generic GPU kernel as fallback when running on GPU\n",
            "WARNING:tensorflow:Layer lstm_7 will not use cuDNN kernel since it doesn't meet the cuDNN kernel criteria. It will use generic GPU kernel as fallback when running on GPU\n",
            "WARNING:tensorflow:Layer lstm_8 will not use cuDNN kernel since it doesn't meet the cuDNN kernel criteria. It will use generic GPU kernel as fallback when running on GPU\n",
            "WARNING:tensorflow:Layer lstm_8 will not use cuDNN kernel since it doesn't meet the cuDNN kernel criteria. It will use generic GPU kernel as fallback when running on GPU\n",
            "WARNING:tensorflow:Layer lstm_8 will not use cuDNN kernel since it doesn't meet the cuDNN kernel criteria. It will use generic GPU kernel as fallback when running on GPU\n",
            "Model: \"functional_3\"\n",
            "__________________________________________________________________________________________________\n",
            "Layer (type)                    Output Shape         Param #     Connected to                     \n",
            "==================================================================================================\n",
            "input_2 (InputLayer)            [(None, 20)]         0                                            \n",
            "__________________________________________________________________________________________________\n",
            "embedding_6 (Embedding)         (None, 20, 35)       700000      input_2[0][0]                    \n",
            "__________________________________________________________________________________________________\n",
            "time_distributed_1 (TimeDistrib (None, 20, 100)      3600        embedding_6[0][0]                \n",
            "__________________________________________________________________________________________________\n",
            "bi_lstm_0 (Bidirectional)       [(None, 20, 70), (No 38080       time_distributed_1[0][0]         \n",
            "__________________________________________________________________________________________________\n",
            "bidirectional_6 (Bidirectional) [(None, 20, 70), (No 29680       bi_lstm_0[0][0]                  \n",
            "                                                                 bi_lstm_0[0][1]                  \n",
            "                                                                 bi_lstm_0[0][2]                  \n",
            "                                                                 bi_lstm_0[0][3]                  \n",
            "                                                                 bi_lstm_0[0][4]                  \n",
            "__________________________________________________________________________________________________\n",
            "concatenate_2 (Concatenate)     (None, 70)           0           bidirectional_6[0][1]            \n",
            "                                                                 bidirectional_6[0][3]            \n",
            "__________________________________________________________________________________________________\n",
            "attention_1 (Attention)         ((None, 70), (None,  5006        bidirectional_6[0][0]            \n",
            "                                                                 concatenate_2[0][0]              \n",
            "__________________________________________________________________________________________________\n",
            "flatten_1 (Flatten)             (None, 70)           0           attention_1[0][0]                \n",
            "__________________________________________________________________________________________________\n",
            "dense_19 (Dense)                (None, 2)            142         flatten_1[0][0]                  \n",
            "==================================================================================================\n",
            "Total params: 776,508\n",
            "Trainable params: 776,508\n",
            "Non-trainable params: 0\n",
            "__________________________________________________________________________________________________\n"
          ],
          "name": "stdout"
        }
      ]
    },
    {
      "cell_type": "code",
      "metadata": {
        "id": "wTQdpqiSCaor"
      },
      "source": [
        "early_stopping_callback = tf.keras.callbacks.EarlyStopping(monitor='val_loss',\n",
        "                                                        min_delta=0,\n",
        "                                                        patience=1,\n",
        "                                                        verbose=0, mode='auto')\n",
        "\n",
        "opt = tf.keras.optimizers.Adam(learning_rate=0.001)\n",
        "\n",
        "name = \"24946_72.47\"\n",
        "# model.load_weights(\"/content/drive/My Drive/nlp/emotion/weights/24946_72.47/\"+name+\".weights\")\n",
        "model.compile(loss='logcosh', \n",
        "              optimizer=opt, \n",
        "              metrics=['accuracy'])                                            "
      ],
      "execution_count": null,
      "outputs": []
    },
    {
      "cell_type": "code",
      "metadata": {
        "id": "ckGlFZg3MnvO",
        "colab": {
          "base_uri": "https://localhost:8080/",
          "height": 550
        },
        "outputId": "3b532da5-2c5d-4bf4-902a-e87617be6a1f"
      },
      "source": [
        "num_epochs = 15\n",
        "batch_size = 30\n",
        "history = model.fit(train_padded, y_train, \n",
        "                    epochs=num_epochs, \n",
        "                    validation_data=(validation_padded, y_test),\n",
        "                    # batch_size=batch_size,\n",
        "                    verbose=True,\n",
        "                    # callbacks=[early_stopping_callback]\n",
        "                    )"
      ],
      "execution_count": null,
      "outputs": [
        {
          "output_type": "stream",
          "text": [
            "Epoch 1/15\n",
            "373/373 [==============================] - 47s 125ms/step - loss: 0.0936 - accuracy: 0.6580 - val_loss: 0.0545 - val_accuracy: 0.8308\n",
            "Epoch 2/15\n",
            "373/373 [==============================] - 46s 122ms/step - loss: 0.0354 - accuracy: 0.8969 - val_loss: 0.0487 - val_accuracy: 0.8563\n",
            "Epoch 3/15\n",
            "373/373 [==============================] - 45s 121ms/step - loss: 0.0183 - accuracy: 0.9514 - val_loss: 0.0513 - val_accuracy: 0.8506\n",
            "Epoch 4/15\n",
            "373/373 [==============================] - 45s 120ms/step - loss: 0.0123 - accuracy: 0.9685 - val_loss: 0.0620 - val_accuracy: 0.8402\n",
            "Epoch 5/15\n",
            "373/373 [==============================] - 45s 121ms/step - loss: 0.0101 - accuracy: 0.9736 - val_loss: 0.0587 - val_accuracy: 0.8412\n",
            "Epoch 6/15\n",
            "373/373 [==============================] - 45s 121ms/step - loss: 0.0079 - accuracy: 0.9803 - val_loss: 0.0599 - val_accuracy: 0.8385\n",
            "Epoch 7/15\n",
            "373/373 [==============================] - 44s 119ms/step - loss: 0.0071 - accuracy: 0.9821 - val_loss: 0.0601 - val_accuracy: 0.8462\n",
            "Epoch 8/15\n",
            "373/373 [==============================] - 45s 120ms/step - loss: 0.0064 - accuracy: 0.9833 - val_loss: 0.0608 - val_accuracy: 0.8408\n",
            "Epoch 9/15\n",
            "373/373 [==============================] - 45s 120ms/step - loss: 0.0062 - accuracy: 0.9838 - val_loss: 0.0609 - val_accuracy: 0.8378\n",
            "Epoch 10/15\n",
            "373/373 [==============================] - 45s 120ms/step - loss: 0.0052 - accuracy: 0.9872 - val_loss: 0.0641 - val_accuracy: 0.8405\n",
            "Epoch 11/15\n",
            "373/373 [==============================] - 44s 119ms/step - loss: 0.0044 - accuracy: 0.9896 - val_loss: 0.0617 - val_accuracy: 0.8452\n",
            "Epoch 12/15\n",
            "373/373 [==============================] - 46s 124ms/step - loss: 0.0046 - accuracy: 0.9887 - val_loss: 0.0609 - val_accuracy: 0.8405\n",
            "Epoch 13/15\n",
            "373/373 [==============================] - 44s 118ms/step - loss: 0.0045 - accuracy: 0.9890 - val_loss: 0.0605 - val_accuracy: 0.8442\n",
            "Epoch 14/15\n",
            "373/373 [==============================] - 44s 117ms/step - loss: 0.0038 - accuracy: 0.9908 - val_loss: 0.0612 - val_accuracy: 0.8435\n",
            "Epoch 15/15\n",
            "373/373 [==============================] - 44s 118ms/step - loss: 0.0042 - accuracy: 0.9896 - val_loss: 0.0638 - val_accuracy: 0.8418\n"
          ],
          "name": "stdout"
        }
      ]
    },
    {
      "cell_type": "code",
      "metadata": {
        "id": "baGsy5iXRcdo",
        "colab": {
          "base_uri": "https://localhost:8080/",
          "height": 337
        },
        "outputId": "dd3080b5-c3f3-4a4c-de54-f542bf1194b9"
      },
      "source": [
        "plot_history(history.history)"
      ],
      "execution_count": null,
      "outputs": [
        {
          "output_type": "display_data",
          "data": {
            "image/png": "[encoded data removed]",
            "text/plain": [
              "<Figure size 864x360 with 2 Axes>"
            ]
          },
          "metadata": {
            "tags": []
          }
        }
      ]
    },
    {
      "cell_type": "markdown",
      "metadata": {
        "id": "QCppozPYW2jV"
      },
      "source": [
        "# Hierarchicl Attention"
      ]
    },
    {
      "cell_type": "code",
      "metadata": {
        "id": "bm83ZboAW0ur"
      },
      "source": [
        "import os\n",
        "import re\n",
        "\n",
        "import numpy as np\n",
        "import pandas as pd\n",
        "from bs4 import BeautifulSoup\n",
        "from keras import backend as K\n",
        "from keras.models import Model\n",
        "from keras import initializers\n",
        "from keras.engine.topology import Layer\n",
        "from keras.layers import Dense, Input\n",
        "from keras.layers import Embedding, GRU, Bidirectional, TimeDistributed\n",
        "from keras.preprocessing.text import Tokenizer, text_to_word_sequence\n",
        "from keras.utils.np_utils import to_categorical\n",
        "from nltk import tokenize\n",
        "\n",
        "class HierarchicalAttentionNetwork(Layer):\n",
        "    def __init__(self, attention_dim):\n",
        "        self.init = initializers.get('normal')\n",
        "        self.supports_masking = True\n",
        "        self.attention_dim = attention_dim\n",
        "        super(HierarchicalAttentionNetwork, self).__init__()\n",
        "\n",
        "    def build(self, input_shape):\n",
        "        assert len(input_shape) == 3\n",
        "        self.W = K.variable(self.init((input_shape[-1], self.attention_dim)))\n",
        "        self.b = K.variable(self.init((self.attention_dim,)))\n",
        "        self.u = K.variable(self.init((self.attention_dim, 1)))\n",
        "        self.trainable_weights = [self.W, self.b, self.u]\n",
        "        super(HierarchicalAttentionNetwork, self).build(input_shape)\n",
        "\n",
        "    def compute_mask(self, inputs, mask=None):\n",
        "        return mask\n",
        "\n",
        "    def call(self, x, mask=None):\n",
        "        # size of x :[batch_size, sel_len, attention_dim]\n",
        "        # size of u :[batch_size, attention_dim]\n",
        "        # uit = tanh(xW+b)\n",
        "        uit = K.tanh(K.bias_add(K.dot(x, self.W), self.b))\n",
        "\n",
        "        ait = K.exp(K.squeeze(K.dot(uit, self.u), -1))\n",
        "\n",
        "        if mask is not None:\n",
        "            # Cast the mask to floatX to avoid float64 upcasting\n",
        "            ait *= K.cast(mask, K.floatx())\n",
        "        ait /= K.cast(K.sum(ait, axis=1, keepdims=True) + K.epsilon(), K.floatx())\n",
        "        weighted_input = x * K.expand_dims(ait)\n",
        "        output = K.sum(weighted_input, axis=1)\n",
        "\n",
        "        return output\n",
        "\n",
        "    def compute_output_shape(self, input_shape):\n",
        "        return input_shape[0], input_shape[-1]"
      ],
      "execution_count": null,
      "outputs": []
    },
    {
      "cell_type": "code",
      "metadata": {
        "id": "S_GwqwoFi5__",
        "colab": {
          "base_uri": "https://localhost:8080/",
          "height": 420
        },
        "outputId": "d1524fb2-81c8-4eb6-d574-dab5b7b226f2"
      },
      "source": [
        "max_sentences = 12\n",
        "embedding_layer = Embedding(vocab_size, embedding_dim,\n",
        "                            input_length=max_length)\n",
        "\n",
        "sentence_input = Input(shape=(max_length,), dtype='int32')\n",
        "embedded_sequences = embedding_layer(sentence_input)\n",
        "lstm_word = Bidirectional(GRU(50, return_sequences=True))(embedded_sequences)\n",
        "attn_word = HierarchicalAttentionNetwork(100)(lstm_word)\n",
        "sentenceEncoder = Model(sentence_input, attn_word)\n",
        "\n",
        "review_input = Input(shape=(max_sentences, max_length), dtype='int32')\n",
        "review_encoder = TimeDistributed(sentenceEncoder)(review_input)\n",
        "lstm_sentence = Bidirectional(GRU(50, return_sequences=True))(review_encoder)\n",
        "attn_sentence = HierarchicalAttentionNetwork(100)(lstm_sentence)\n",
        "preds = Dense(2, activation='softmax')(attn_sentence)\n",
        "model = Model(review_input, preds)\n",
        "model.summary()"
      ],
      "execution_count": null,
      "outputs": [
        {
          "output_type": "stream",
          "text": [
            "tracking <tf.Variable 'hierarchical_attention_network_9/Variable:0' shape=(100, 100) dtype=float32> W\n",
            "tracking <tf.Variable 'hierarchical_attention_network_9/Variable:0' shape=(100,) dtype=float32> b\n",
            "tracking <tf.Variable 'hierarchical_attention_network_9/Variable:0' shape=(100, 1) dtype=float32> u\n",
            "tracking <tf.Variable 'hierarchical_attention_network_10/Variable:0' shape=(100, 100) dtype=float32> W\n",
            "tracking <tf.Variable 'hierarchical_attention_network_10/Variable:0' shape=(100,) dtype=float32> b\n",
            "tracking <tf.Variable 'hierarchical_attention_network_10/Variable:0' shape=(100, 1) dtype=float32> u\n",
            "Model: \"model_9\"\n",
            "_________________________________________________________________\n",
            "Layer (type)                 Output Shape              Param #   \n",
            "=================================================================\n",
            "input_11 (InputLayer)        (None, 12, 20)            0         \n",
            "_________________________________________________________________\n",
            "time_distributed_4 (TimeDist (None, 12, 100)           736000    \n",
            "_________________________________________________________________\n",
            "bidirectional_10 (Bidirectio (None, 12, 100)           45300     \n",
            "_________________________________________________________________\n",
            "hierarchical_attention_netwo (None, 100)               10200     \n",
            "_________________________________________________________________\n",
            "dense_6 (Dense)              (None, 2)                 202       \n",
            "=================================================================\n",
            "Total params: 791,702\n",
            "Trainable params: 791,702\n",
            "Non-trainable params: 0\n",
            "_________________________________________________________________\n"
          ],
          "name": "stdout"
        }
      ]
    },
    {
      "cell_type": "code",
      "metadata": {
        "id": "lCu2su4Vjs4J"
      },
      "source": [
        "opt = tf.keras.optimizers.Adam(learning_rate=0.001)\n",
        "model.compile(loss='categorical_crossentropy', \n",
        "              optimizer=opt, \n",
        "              metrics=['accuracy'])    \n",
        "num_epochs = 15\n",
        "batch_size = 30\n",
        "print(\"model fitting - Hierachical attention network\")\n",
        "history = model.fit(train_padded, y_train, \n",
        "                    epochs=num_epochs, \n",
        "                    validation_data=(validation_padded, y_test),\n",
        "                    # batch_size=batch_size,\n",
        "                    verbose=True,\n",
        "                    # callbacks=[early_stopping_callback]\n",
        "                    )"
      ],
      "execution_count": null,
      "outputs": []
    },
    {
      "cell_type": "code",
      "metadata": {
        "id": "Nxh5J7Dul6k9",
        "colab": {
          "base_uri": "https://localhost:8080/",
          "height": 34
        },
        "outputId": "1fbfcef3-672e-48bf-f46c-b63de79a6e4a"
      },
      "source": [
        "train_padded.reshape()"
      ],
      "execution_count": null,
      "outputs": [
        {
          "output_type": "execute_result",
          "data": {
            "text/plain": [
              "(21201, 20)"
            ]
          },
          "metadata": {
            "tags": []
          },
          "execution_count": 136
        }
      ]
    },
    {
      "cell_type": "code",
      "metadata": {
        "id": "rq3gCkQ2l6eh",
        "colab": {
          "base_uri": "https://localhost:8080/",
          "height": 134
        },
        "outputId": "cddebca2-fce7-4523-cae3-4be77084be6c"
      },
      "source": [
        "train_padded"
      ],
      "execution_count": null,
      "outputs": [
        {
          "output_type": "execute_result",
          "data": {
            "text/plain": [
              "array([[   2,   38,  324, ...,    0,    0,    0],\n",
              "       [   2,  195,    3, ...,  302,   19,    0],\n",
              "       [ 608,    5,  977, ...,  147, 3667, 1432],\n",
              "       ...,\n",
              "       [   2,  573,    4, ...,    0,    0,    0],\n",
              "       [ 258,    7,  245, ...,    0,    0,    0],\n",
              "       [  39,   48,  189, ...,  661,  189,    0]], dtype=int32)"
            ]
          },
          "metadata": {
            "tags": []
          },
          "execution_count": 137
        }
      ]
    },
    {
      "cell_type": "code",
      "metadata": {
        "id": "avRjPsB3l6Xn",
        "colab": {
          "base_uri": "https://localhost:8080/",
          "height": 337
        },
        "outputId": "3b401ddc-ed07-4f52-dddb-ecaafa0ca24d"
      },
      "source": [
        "np.reshape(train_padded, (train_padded.shape[0], 9, train_padded.shape[1]))"
      ],
      "execution_count": null,
      "outputs": [
        {
          "output_type": "error",
          "ename": "ValueError",
          "evalue": "ignored",
          "traceback": [
            "\u001b[0;31m---------------------------------------------------------------------------\u001b[0m",
            "\u001b[0;31mValueError\u001b[0m                                Traceback (most recent call last)",
            "\u001b[0;32m<ipython-input-140-d8ec476695a3>\u001b[0m in \u001b[0;36m<module>\u001b[0;34m()\u001b[0m\n\u001b[0;32m----> 1\u001b[0;31m \u001b[0mnp\u001b[0m\u001b[0;34m.\u001b[0m\u001b[0mreshape\u001b[0m\u001b[0;34m(\u001b[0m\u001b[0mtrain_padded\u001b[0m\u001b[0;34m,\u001b[0m \u001b[0;34m(\u001b[0m\u001b[0mtrain_padded\u001b[0m\u001b[0;34m.\u001b[0m\u001b[0mshape\u001b[0m\u001b[0;34m[\u001b[0m\u001b[0;36m0\u001b[0m\u001b[0;34m]\u001b[0m\u001b[0;34m,\u001b[0m \u001b[0;36m9\u001b[0m\u001b[0;34m,\u001b[0m \u001b[0mtrain_padded\u001b[0m\u001b[0;34m.\u001b[0m\u001b[0mshape\u001b[0m\u001b[0;34m[\u001b[0m\u001b[0;36m1\u001b[0m\u001b[0;34m]\u001b[0m\u001b[0;34m)\u001b[0m\u001b[0;34m)\u001b[0m\u001b[0;34m\u001b[0m\u001b[0;34m\u001b[0m\u001b[0m\n\u001b[0m",
            "\u001b[0;32m<__array_function__ internals>\u001b[0m in \u001b[0;36mreshape\u001b[0;34m(*args, **kwargs)\u001b[0m\n",
            "\u001b[0;32m/usr/local/lib/python3.6/dist-packages/numpy/core/fromnumeric.py\u001b[0m in \u001b[0;36mreshape\u001b[0;34m(a, newshape, order)\u001b[0m\n\u001b[1;32m    299\u001b[0m            [5, 6]])\n\u001b[1;32m    300\u001b[0m     \"\"\"\n\u001b[0;32m--> 301\u001b[0;31m     \u001b[0;32mreturn\u001b[0m \u001b[0m_wrapfunc\u001b[0m\u001b[0;34m(\u001b[0m\u001b[0ma\u001b[0m\u001b[0;34m,\u001b[0m \u001b[0;34m'reshape'\u001b[0m\u001b[0;34m,\u001b[0m \u001b[0mnewshape\u001b[0m\u001b[0;34m,\u001b[0m \u001b[0morder\u001b[0m\u001b[0;34m=\u001b[0m\u001b[0morder\u001b[0m\u001b[0;34m)\u001b[0m\u001b[0;34m\u001b[0m\u001b[0;34m\u001b[0m\u001b[0m\n\u001b[0m\u001b[1;32m    302\u001b[0m \u001b[0;34m\u001b[0m\u001b[0m\n\u001b[1;32m    303\u001b[0m \u001b[0;34m\u001b[0m\u001b[0m\n",
            "\u001b[0;32m/usr/local/lib/python3.6/dist-packages/numpy/core/fromnumeric.py\u001b[0m in \u001b[0;36m_wrapfunc\u001b[0;34m(obj, method, *args, **kwds)\u001b[0m\n\u001b[1;32m     59\u001b[0m \u001b[0;34m\u001b[0m\u001b[0m\n\u001b[1;32m     60\u001b[0m     \u001b[0;32mtry\u001b[0m\u001b[0;34m:\u001b[0m\u001b[0;34m\u001b[0m\u001b[0;34m\u001b[0m\u001b[0m\n\u001b[0;32m---> 61\u001b[0;31m         \u001b[0;32mreturn\u001b[0m \u001b[0mbound\u001b[0m\u001b[0;34m(\u001b[0m\u001b[0;34m*\u001b[0m\u001b[0margs\u001b[0m\u001b[0;34m,\u001b[0m \u001b[0;34m**\u001b[0m\u001b[0mkwds\u001b[0m\u001b[0;34m)\u001b[0m\u001b[0;34m\u001b[0m\u001b[0;34m\u001b[0m\u001b[0m\n\u001b[0m\u001b[1;32m     62\u001b[0m     \u001b[0;32mexcept\u001b[0m \u001b[0mTypeError\u001b[0m\u001b[0;34m:\u001b[0m\u001b[0;34m\u001b[0m\u001b[0;34m\u001b[0m\u001b[0m\n\u001b[1;32m     63\u001b[0m         \u001b[0;31m# A TypeError occurs if the object does have such a method in its\u001b[0m\u001b[0;34m\u001b[0m\u001b[0;34m\u001b[0m\u001b[0;34m\u001b[0m\u001b[0m\n",
            "\u001b[0;31mValueError\u001b[0m: cannot reshape array of size 424020 into shape (21201,9,20)"
          ]
        }
      ]
    },
    {
      "cell_type": "code",
      "metadata": {
        "id": "uSimo-JZW8sd",
        "colab": {
          "base_uri": "https://localhost:8080/",
          "height": 387
        },
        "outputId": "eaa3f9d0-1556-4d6c-ed82-ac37dd5feb3b"
      },
      "source": [
        "num_epochs = 15\n",
        "batch_size = 30\n",
        "history = model.fit(train_padded, y_train, \n",
        "                    epochs=num_epochs, \n",
        "                    validation_data=(validation_padded, y_test),\n",
        "                    # batch_size=batch_size,\n",
        "                    verbose=True,\n",
        "                    # callbacks=[early_stopping_callback]\n",
        "                    )"
      ],
      "execution_count": null,
      "outputs": [
        {
          "output_type": "error",
          "ename": "RuntimeError",
          "evalue": "ignored",
          "traceback": [
            "\u001b[0;31m---------------------------------------------------------------------------\u001b[0m",
            "\u001b[0;31mRuntimeError\u001b[0m                              Traceback (most recent call last)",
            "\u001b[0;32m<ipython-input-130-0590b9eb07f0>\u001b[0m in \u001b[0;36m<module>\u001b[0;34m()\u001b[0m\n\u001b[1;32m      5\u001b[0m                     \u001b[0mvalidation_data\u001b[0m\u001b[0;34m=\u001b[0m\u001b[0;34m(\u001b[0m\u001b[0mvalidation_padded\u001b[0m\u001b[0;34m,\u001b[0m \u001b[0my_test\u001b[0m\u001b[0;34m)\u001b[0m\u001b[0;34m,\u001b[0m\u001b[0;34m\u001b[0m\u001b[0;34m\u001b[0m\u001b[0m\n\u001b[1;32m      6\u001b[0m                     \u001b[0;31m# batch_size=batch_size,\u001b[0m\u001b[0;34m\u001b[0m\u001b[0;34m\u001b[0m\u001b[0;34m\u001b[0m\u001b[0m\n\u001b[0;32m----> 7\u001b[0;31m                     \u001b[0mverbose\u001b[0m\u001b[0;34m=\u001b[0m\u001b[0;32mTrue\u001b[0m\u001b[0;34m,\u001b[0m\u001b[0;34m\u001b[0m\u001b[0;34m\u001b[0m\u001b[0m\n\u001b[0m\u001b[1;32m      8\u001b[0m                     \u001b[0;31m# callbacks=[early_stopping_callback]\u001b[0m\u001b[0;34m\u001b[0m\u001b[0;34m\u001b[0m\u001b[0;34m\u001b[0m\u001b[0m\n\u001b[1;32m      9\u001b[0m                     )\n",
            "\u001b[0;32m/usr/local/lib/python3.6/dist-packages/keras/engine/training.py\u001b[0m in \u001b[0;36mfit\u001b[0;34m(self, x, y, batch_size, epochs, verbose, callbacks, validation_split, validation_data, shuffle, class_weight, sample_weight, initial_epoch, steps_per_epoch, validation_steps, validation_freq, max_queue_size, workers, use_multiprocessing, **kwargs)\u001b[0m\n\u001b[1;32m   1152\u001b[0m             \u001b[0msample_weight\u001b[0m\u001b[0;34m=\u001b[0m\u001b[0msample_weight\u001b[0m\u001b[0;34m,\u001b[0m\u001b[0;34m\u001b[0m\u001b[0;34m\u001b[0m\u001b[0m\n\u001b[1;32m   1153\u001b[0m             \u001b[0mclass_weight\u001b[0m\u001b[0;34m=\u001b[0m\u001b[0mclass_weight\u001b[0m\u001b[0;34m,\u001b[0m\u001b[0;34m\u001b[0m\u001b[0;34m\u001b[0m\u001b[0m\n\u001b[0;32m-> 1154\u001b[0;31m             batch_size=batch_size)\n\u001b[0m\u001b[1;32m   1155\u001b[0m \u001b[0;34m\u001b[0m\u001b[0m\n\u001b[1;32m   1156\u001b[0m         \u001b[0;31m# Prepare validation data.\u001b[0m\u001b[0;34m\u001b[0m\u001b[0;34m\u001b[0m\u001b[0;34m\u001b[0m\u001b[0m\n",
            "\u001b[0;32m/usr/local/lib/python3.6/dist-packages/keras/engine/training.py\u001b[0m in \u001b[0;36m_standardize_user_data\u001b[0;34m(self, x, y, sample_weight, class_weight, check_array_lengths, batch_size)\u001b[0m\n\u001b[1;32m    506\u001b[0m         \u001b[0;32mif\u001b[0m \u001b[0my\u001b[0m \u001b[0;32mis\u001b[0m \u001b[0;32mnot\u001b[0m \u001b[0;32mNone\u001b[0m\u001b[0;34m:\u001b[0m\u001b[0;34m\u001b[0m\u001b[0;34m\u001b[0m\u001b[0m\n\u001b[1;32m    507\u001b[0m             \u001b[0;32mif\u001b[0m \u001b[0;32mnot\u001b[0m \u001b[0mself\u001b[0m\u001b[0;34m.\u001b[0m\u001b[0moptimizer\u001b[0m\u001b[0;34m:\u001b[0m\u001b[0;34m\u001b[0m\u001b[0;34m\u001b[0m\u001b[0m\n\u001b[0;32m--> 508\u001b[0;31m                 raise RuntimeError('You must compile a model before '\n\u001b[0m\u001b[1;32m    509\u001b[0m                                    \u001b[0;34m'training/testing. '\u001b[0m\u001b[0;34m\u001b[0m\u001b[0;34m\u001b[0m\u001b[0m\n\u001b[1;32m    510\u001b[0m                                    'Use `model.compile(optimizer, loss)`.')\n",
            "\u001b[0;31mRuntimeError\u001b[0m: You must compile a model before training/testing. Use `model.compile(optimizer, loss)`."
          ]
        }
      ]
    },
    {
      "cell_type": "code",
      "metadata": {
        "id": "jzomb_J4nT1r"
      },
      "source": [
        "from tensorflow.keras import backend as K\n",
        "from tensorflow.keras.layers import Layer\n",
        "\n",
        "class AttentionLayer(Layer):\n",
        "    \"\"\"\n",
        "    Hierarchial Attention Layer as described by Hierarchical Attention Networks for Document Classification(2016)\n",
        "    - Yang et. al.\n",
        "    Source: https://www.cs.cmu.edu/~hovy/papers/16HLT-hierarchical-attention-networks.pdf\n",
        "    Theano backend\n",
        "    \"\"\"\n",
        "    def __init__(self,attention_dim=100,return_coefficients=False,**kwargs):\n",
        "        # Initializer \n",
        "        self.supports_masking = True\n",
        "        self.return_coefficients = return_coefficients\n",
        "        self.init = tf.keras.initializers.get('glorot_uniform') # initializes values with uniform distribution\n",
        "        self.attention_dim = attention_dim\n",
        "        super(AttentionLayer, self).__init__(**kwargs)\n",
        "\n",
        "    def build(self, input_shape):\n",
        "        # Builds all weights\n",
        "        # W = Weight matrix, b = bias vector, u = context vector\n",
        "        assert len(input_shape) == 3\n",
        "        self.W = K.variable(self.init((input_shape[-1], self.attention_dim)),name='W')\n",
        "        self.b = K.variable(self.init((self.attention_dim, )),name='b')\n",
        "        self.u = K.variable(self.init((self.attention_dim, 1)),name='u')\n",
        "        self.trainable_weights = [self.W, self.b, self.u]\n",
        "\n",
        "        super(AttentionLayer, self).build(input_shape)\n",
        "\n",
        "    def compute_mask(self, input, input_mask=None):\n",
        "        return None\n",
        "\n",
        "    def call(self, hit, mask=None):\n",
        "        # Here, the actual calculation is done\n",
        "        uit = K.bias_add(K.dot(hit, self.W),self.b)\n",
        "        uit = K.tanh(uit)\n",
        "        \n",
        "        ait = K.dot(uit, self.u)\n",
        "        ait = K.squeeze(ait, -1)\n",
        "        ait = K.exp(ait)\n",
        "        \n",
        "        if mask is not None:\n",
        "            ait *= K.cast(mask, K.floatx())\n",
        "\n",
        "        ait /= K.cast(K.sum(ait, axis=1, keepdims=True) + K.epsilon(), K.floatx())\n",
        "        ait = K.expand_dims(ait)\n",
        "        weighted_input = hit * ait\n",
        "        \n",
        "        if self.return_coefficients:\n",
        "            return [K.sum(weighted_input, axis=1), ait]\n",
        "        else:\n",
        "            return K.sum(weighted_input, axis=1)\n",
        "\n",
        "    def compute_output_shape(self, input_shape):\n",
        "        if self.return_coefficients:\n",
        "            return [(input_shape[0], input_shape[-1]), (input_shape[0], input_shape[-1], 1)]\n",
        "        else:\n",
        "            return input_shape[0], input_shape[-1]"
      ],
      "execution_count": null,
      "outputs": []
    },
    {
      "cell_type": "code",
      "metadata": {
        "id": "OwFfljp8W8Fg",
        "colab": {
          "base_uri": "https://localhost:8080/",
          "height": 908
        },
        "outputId": "f0b8e996-8ff7-4d23-a236-be75bf707241"
      },
      "source": [
        "MAX_SENTENCE_NUM = 9\n",
        "embedding_layer = tf.keras.layers.Embedding(vocab_size,embedding_dim ,\n",
        "                            input_length=max_length,name='word_embedding')\n",
        "\n",
        "# Words level attention model\n",
        "word_input = tf.keras.layers.Input(shape=(max_length,), dtype='int32',name='word_input')\n",
        "word_sequences = embedding_layer(word_input)\n",
        "word_gru = tf.keras.layers.Bidirectional(tf.keras.layers.GRU(50, return_sequences=True),name='word_gru')(word_sequences)\n",
        "word_dense = tf.keras.layers.Dense(100, activation='relu', name='word_dense')(word_gru) \n",
        "word_att,word_coeffs = AttentionLayer(embedding_dim)(word_dense)\n",
        "wordEncoder = tf.keras.Model(inputs = word_input,outputs = word_att)\n",
        "\n",
        "# Sentence level attention model\n",
        "sent_input = tf.keras.layers.Input(shape=(MAX_SENTENCE_NUM,max_length), dtype='int32',name='sent_input')\n",
        "sent_encoder = tf.keras.layers.TimeDistributed(wordEncoder,name='sent_linking')(sent_input)\n",
        "sent_gru = tf.keras.layers.Bidirectional(tf.keras.layers.GRU(50, return_sequences=True),name='sent_gru')(sent_encoder)\n",
        "sent_dense = tf.keras.layers.Dense(100, activation='relu', name='sent_dense')(sent_gru) \n",
        "sent_att,sent_coeffs = AttentionLayer(embedding_dim)(sent_dense)\n",
        "sent_drop = tf.keras.layers.Dropout(0.5,name='sent_dropout')(sent_att)\n",
        "preds = tf.keras.layers.Dense(5, activation='softmax',name='output')(sent_drop)\n",
        "\n",
        "# Model compile\n",
        "model = tf.keras.Model(sent_input, preds)\n",
        "model.compile(loss='categorical_crossentropy',optimizer='adam',metrics=['acc'])\n",
        "print(wordEncoder.summary())\n",
        "print(model.summary())"
      ],
      "execution_count": null,
      "outputs": [
        {
          "output_type": "error",
          "ename": "AttributeError",
          "evalue": "ignored",
          "traceback": [
            "\u001b[0;31m---------------------------------------------------------------------------\u001b[0m",
            "\u001b[0;31mAttributeError\u001b[0m                            Traceback (most recent call last)",
            "\u001b[0;32m/usr/local/lib/python3.6/dist-packages/tensorflow/python/keras/engine/base_layer.py\u001b[0m in \u001b[0;36m__setattr__\u001b[0;34m(self, name, value)\u001b[0m\n\u001b[1;32m   2548\u001b[0m       \u001b[0;32mtry\u001b[0m\u001b[0;34m:\u001b[0m\u001b[0;34m\u001b[0m\u001b[0;34m\u001b[0m\u001b[0m\n\u001b[0;32m-> 2549\u001b[0;31m         \u001b[0msuper\u001b[0m\u001b[0;34m(\u001b[0m\u001b[0mtracking\u001b[0m\u001b[0;34m.\u001b[0m\u001b[0mAutoTrackable\u001b[0m\u001b[0;34m,\u001b[0m \u001b[0mself\u001b[0m\u001b[0;34m)\u001b[0m\u001b[0;34m.\u001b[0m\u001b[0m__setattr__\u001b[0m\u001b[0;34m(\u001b[0m\u001b[0mname\u001b[0m\u001b[0;34m,\u001b[0m \u001b[0mvalue\u001b[0m\u001b[0;34m)\u001b[0m\u001b[0;34m\u001b[0m\u001b[0;34m\u001b[0m\u001b[0m\n\u001b[0m\u001b[1;32m   2550\u001b[0m       \u001b[0;32mexcept\u001b[0m \u001b[0mAttributeError\u001b[0m\u001b[0;34m:\u001b[0m\u001b[0;34m\u001b[0m\u001b[0;34m\u001b[0m\u001b[0m\n",
            "\u001b[0;31mAttributeError\u001b[0m: can't set attribute",
            "\nDuring handling of the above exception, another exception occurred:\n",
            "\u001b[0;31mAttributeError\u001b[0m                            Traceback (most recent call last)",
            "\u001b[0;32m<ipython-input-144-72ada1fa8e64>\u001b[0m in \u001b[0;36m<module>\u001b[0;34m()\u001b[0m\n\u001b[1;32m      8\u001b[0m \u001b[0mword_gru\u001b[0m \u001b[0;34m=\u001b[0m \u001b[0mtf\u001b[0m\u001b[0;34m.\u001b[0m\u001b[0mkeras\u001b[0m\u001b[0;34m.\u001b[0m\u001b[0mlayers\u001b[0m\u001b[0;34m.\u001b[0m\u001b[0mBidirectional\u001b[0m\u001b[0;34m(\u001b[0m\u001b[0mtf\u001b[0m\u001b[0;34m.\u001b[0m\u001b[0mkeras\u001b[0m\u001b[0;34m.\u001b[0m\u001b[0mlayers\u001b[0m\u001b[0;34m.\u001b[0m\u001b[0mGRU\u001b[0m\u001b[0;34m(\u001b[0m\u001b[0;36m50\u001b[0m\u001b[0;34m,\u001b[0m \u001b[0mreturn_sequences\u001b[0m\u001b[0;34m=\u001b[0m\u001b[0;32mTrue\u001b[0m\u001b[0;34m)\u001b[0m\u001b[0;34m,\u001b[0m\u001b[0mname\u001b[0m\u001b[0;34m=\u001b[0m\u001b[0;34m'word_gru'\u001b[0m\u001b[0;34m)\u001b[0m\u001b[0;34m(\u001b[0m\u001b[0mword_sequences\u001b[0m\u001b[0;34m)\u001b[0m\u001b[0;34m\u001b[0m\u001b[0;34m\u001b[0m\u001b[0m\n\u001b[1;32m      9\u001b[0m \u001b[0mword_dense\u001b[0m \u001b[0;34m=\u001b[0m \u001b[0mtf\u001b[0m\u001b[0;34m.\u001b[0m\u001b[0mkeras\u001b[0m\u001b[0;34m.\u001b[0m\u001b[0mlayers\u001b[0m\u001b[0;34m.\u001b[0m\u001b[0mDense\u001b[0m\u001b[0;34m(\u001b[0m\u001b[0;36m100\u001b[0m\u001b[0;34m,\u001b[0m \u001b[0mactivation\u001b[0m\u001b[0;34m=\u001b[0m\u001b[0;34m'relu'\u001b[0m\u001b[0;34m,\u001b[0m \u001b[0mname\u001b[0m\u001b[0;34m=\u001b[0m\u001b[0;34m'word_dense'\u001b[0m\u001b[0;34m)\u001b[0m\u001b[0;34m(\u001b[0m\u001b[0mword_gru\u001b[0m\u001b[0;34m)\u001b[0m\u001b[0;34m\u001b[0m\u001b[0;34m\u001b[0m\u001b[0m\n\u001b[0;32m---> 10\u001b[0;31m \u001b[0mword_att\u001b[0m\u001b[0;34m,\u001b[0m\u001b[0mword_coeffs\u001b[0m \u001b[0;34m=\u001b[0m \u001b[0mAttentionLayer\u001b[0m\u001b[0;34m(\u001b[0m\u001b[0membedding_dim\u001b[0m\u001b[0;34m)\u001b[0m\u001b[0;34m(\u001b[0m\u001b[0mword_dense\u001b[0m\u001b[0;34m)\u001b[0m\u001b[0;34m\u001b[0m\u001b[0;34m\u001b[0m\u001b[0m\n\u001b[0m\u001b[1;32m     11\u001b[0m \u001b[0mwordEncoder\u001b[0m \u001b[0;34m=\u001b[0m \u001b[0mtf\u001b[0m\u001b[0;34m.\u001b[0m\u001b[0mkeras\u001b[0m\u001b[0;34m.\u001b[0m\u001b[0mModel\u001b[0m\u001b[0;34m(\u001b[0m\u001b[0minputs\u001b[0m \u001b[0;34m=\u001b[0m \u001b[0mword_input\u001b[0m\u001b[0;34m,\u001b[0m\u001b[0moutputs\u001b[0m \u001b[0;34m=\u001b[0m \u001b[0mword_att\u001b[0m\u001b[0;34m)\u001b[0m\u001b[0;34m\u001b[0m\u001b[0;34m\u001b[0m\u001b[0m\n\u001b[1;32m     12\u001b[0m \u001b[0;34m\u001b[0m\u001b[0m\n",
            "\u001b[0;32m/usr/local/lib/python3.6/dist-packages/tensorflow/python/keras/engine/base_layer.py\u001b[0m in \u001b[0;36m__call__\u001b[0;34m(self, *args, **kwargs)\u001b[0m\n\u001b[1;32m    895\u001b[0m           \u001b[0;31m# Build layer if applicable (if the `build` method has been\u001b[0m\u001b[0;34m\u001b[0m\u001b[0;34m\u001b[0m\u001b[0;34m\u001b[0m\u001b[0m\n\u001b[1;32m    896\u001b[0m           \u001b[0;31m# overridden).\u001b[0m\u001b[0;34m\u001b[0m\u001b[0;34m\u001b[0m\u001b[0;34m\u001b[0m\u001b[0m\n\u001b[0;32m--> 897\u001b[0;31m           \u001b[0mself\u001b[0m\u001b[0;34m.\u001b[0m\u001b[0m_maybe_build\u001b[0m\u001b[0;34m(\u001b[0m\u001b[0minputs\u001b[0m\u001b[0;34m)\u001b[0m\u001b[0;34m\u001b[0m\u001b[0;34m\u001b[0m\u001b[0m\n\u001b[0m\u001b[1;32m    898\u001b[0m           \u001b[0mcast_inputs\u001b[0m \u001b[0;34m=\u001b[0m \u001b[0mself\u001b[0m\u001b[0;34m.\u001b[0m\u001b[0m_maybe_cast_inputs\u001b[0m\u001b[0;34m(\u001b[0m\u001b[0minputs\u001b[0m\u001b[0;34m)\u001b[0m\u001b[0;34m\u001b[0m\u001b[0;34m\u001b[0m\u001b[0m\n\u001b[1;32m    899\u001b[0m \u001b[0;34m\u001b[0m\u001b[0m\n",
            "\u001b[0;32m/usr/local/lib/python3.6/dist-packages/tensorflow/python/keras/engine/base_layer.py\u001b[0m in \u001b[0;36m_maybe_build\u001b[0;34m(self, inputs)\u001b[0m\n\u001b[1;32m   2414\u001b[0m         \u001b[0;31m# operations.\u001b[0m\u001b[0;34m\u001b[0m\u001b[0;34m\u001b[0m\u001b[0;34m\u001b[0m\u001b[0m\n\u001b[1;32m   2415\u001b[0m         \u001b[0;32mwith\u001b[0m \u001b[0mtf_utils\u001b[0m\u001b[0;34m.\u001b[0m\u001b[0mmaybe_init_scope\u001b[0m\u001b[0;34m(\u001b[0m\u001b[0mself\u001b[0m\u001b[0;34m)\u001b[0m\u001b[0;34m:\u001b[0m\u001b[0;34m\u001b[0m\u001b[0;34m\u001b[0m\u001b[0m\n\u001b[0;32m-> 2416\u001b[0;31m           \u001b[0mself\u001b[0m\u001b[0;34m.\u001b[0m\u001b[0mbuild\u001b[0m\u001b[0;34m(\u001b[0m\u001b[0minput_shapes\u001b[0m\u001b[0;34m)\u001b[0m  \u001b[0;31m# pylint:disable=not-callable\u001b[0m\u001b[0;34m\u001b[0m\u001b[0;34m\u001b[0m\u001b[0m\n\u001b[0m\u001b[1;32m   2417\u001b[0m       \u001b[0;31m# We must set also ensure that the layer is marked as built, and the build\u001b[0m\u001b[0;34m\u001b[0m\u001b[0;34m\u001b[0m\u001b[0;34m\u001b[0m\u001b[0m\n\u001b[1;32m   2418\u001b[0m       \u001b[0;31m# shape is stored since user defined build functions may not be calling\u001b[0m\u001b[0;34m\u001b[0m\u001b[0;34m\u001b[0m\u001b[0;34m\u001b[0m\u001b[0m\n",
            "\u001b[0;32m<ipython-input-142-704e86d04ddb>\u001b[0m in \u001b[0;36mbuild\u001b[0;34m(self, input_shape)\u001b[0m\n\u001b[1;32m     24\u001b[0m         \u001b[0mself\u001b[0m\u001b[0;34m.\u001b[0m\u001b[0mb\u001b[0m \u001b[0;34m=\u001b[0m \u001b[0mK\u001b[0m\u001b[0;34m.\u001b[0m\u001b[0mvariable\u001b[0m\u001b[0;34m(\u001b[0m\u001b[0mself\u001b[0m\u001b[0;34m.\u001b[0m\u001b[0minit\u001b[0m\u001b[0;34m(\u001b[0m\u001b[0;34m(\u001b[0m\u001b[0mself\u001b[0m\u001b[0;34m.\u001b[0m\u001b[0mattention_dim\u001b[0m\u001b[0;34m,\u001b[0m \u001b[0;34m)\u001b[0m\u001b[0;34m)\u001b[0m\u001b[0;34m,\u001b[0m\u001b[0mname\u001b[0m\u001b[0;34m=\u001b[0m\u001b[0;34m'b'\u001b[0m\u001b[0;34m)\u001b[0m\u001b[0;34m\u001b[0m\u001b[0;34m\u001b[0m\u001b[0m\n\u001b[1;32m     25\u001b[0m         \u001b[0mself\u001b[0m\u001b[0;34m.\u001b[0m\u001b[0mu\u001b[0m \u001b[0;34m=\u001b[0m \u001b[0mK\u001b[0m\u001b[0;34m.\u001b[0m\u001b[0mvariable\u001b[0m\u001b[0;34m(\u001b[0m\u001b[0mself\u001b[0m\u001b[0;34m.\u001b[0m\u001b[0minit\u001b[0m\u001b[0;34m(\u001b[0m\u001b[0;34m(\u001b[0m\u001b[0mself\u001b[0m\u001b[0;34m.\u001b[0m\u001b[0mattention_dim\u001b[0m\u001b[0;34m,\u001b[0m \u001b[0;36m1\u001b[0m\u001b[0;34m)\u001b[0m\u001b[0;34m)\u001b[0m\u001b[0;34m,\u001b[0m\u001b[0mname\u001b[0m\u001b[0;34m=\u001b[0m\u001b[0;34m'u'\u001b[0m\u001b[0;34m)\u001b[0m\u001b[0;34m\u001b[0m\u001b[0;34m\u001b[0m\u001b[0m\n\u001b[0;32m---> 26\u001b[0;31m         \u001b[0mself\u001b[0m\u001b[0;34m.\u001b[0m\u001b[0mtrainable_weights\u001b[0m \u001b[0;34m=\u001b[0m \u001b[0;34m[\u001b[0m\u001b[0mself\u001b[0m\u001b[0;34m.\u001b[0m\u001b[0mW\u001b[0m\u001b[0;34m,\u001b[0m \u001b[0mself\u001b[0m\u001b[0;34m.\u001b[0m\u001b[0mb\u001b[0m\u001b[0;34m,\u001b[0m \u001b[0mself\u001b[0m\u001b[0;34m.\u001b[0m\u001b[0mu\u001b[0m\u001b[0;34m]\u001b[0m\u001b[0;34m\u001b[0m\u001b[0;34m\u001b[0m\u001b[0m\n\u001b[0m\u001b[1;32m     27\u001b[0m \u001b[0;34m\u001b[0m\u001b[0m\n\u001b[1;32m     28\u001b[0m         \u001b[0msuper\u001b[0m\u001b[0;34m(\u001b[0m\u001b[0mAttentionLayer\u001b[0m\u001b[0;34m,\u001b[0m \u001b[0mself\u001b[0m\u001b[0;34m)\u001b[0m\u001b[0;34m.\u001b[0m\u001b[0mbuild\u001b[0m\u001b[0;34m(\u001b[0m\u001b[0minput_shape\u001b[0m\u001b[0;34m)\u001b[0m\u001b[0;34m\u001b[0m\u001b[0;34m\u001b[0m\u001b[0m\n",
            "\u001b[0;32m/usr/local/lib/python3.6/dist-packages/tensorflow/python/keras/engine/base_layer.py\u001b[0m in \u001b[0;36m__setattr__\u001b[0;34m(self, name, value)\u001b[0m\n\u001b[1;32m   2552\u001b[0m             ('Can\\'t set the attribute \"{}\", likely because it conflicts with '\n\u001b[1;32m   2553\u001b[0m              \u001b[0;34m'an existing read-only @property of the object. Please choose a '\u001b[0m\u001b[0;34m\u001b[0m\u001b[0;34m\u001b[0m\u001b[0m\n\u001b[0;32m-> 2554\u001b[0;31m              'different name.').format(name))\n\u001b[0m\u001b[1;32m   2555\u001b[0m       \u001b[0;32mreturn\u001b[0m\u001b[0;34m\u001b[0m\u001b[0;34m\u001b[0m\u001b[0m\n\u001b[1;32m   2556\u001b[0m \u001b[0;34m\u001b[0m\u001b[0m\n",
            "\u001b[0;31mAttributeError\u001b[0m: Can't set the attribute \"trainable_weights\", likely because it conflicts with an existing read-only @property of the object. Please choose a different name."
          ]
        }
      ]
    },
    {
      "cell_type": "code",
      "metadata": {
        "id": "jNt5GQ_Q9n8y"
      },
      "source": [
        ""
      ],
      "execution_count": null,
      "outputs": []
    },
    {
      "cell_type": "code",
      "metadata": {
        "id": "s6vL6dAX9n4C"
      },
      "source": [
        ""
      ],
      "execution_count": null,
      "outputs": []
    },
    {
      "cell_type": "code",
      "metadata": {
        "id": "29KKV4Ua9nzd"
      },
      "source": [
        ""
      ],
      "execution_count": null,
      "outputs": []
    },
    {
      "cell_type": "code",
      "metadata": {
        "id": "bFK2RWa19nt0"
      },
      "source": [
        ""
      ],
      "execution_count": null,
      "outputs": []
    },
    {
      "cell_type": "code",
      "metadata": {
        "id": "OSQ3gMLa9nol"
      },
      "source": [
        ""
      ],
      "execution_count": null,
      "outputs": []
    },
    {
      "cell_type": "code",
      "metadata": {
        "id": "k5IyXkZ0W7-u"
      },
      "source": [
        ""
      ],
      "execution_count": null,
      "outputs": []
    },
    {
      "cell_type": "code",
      "metadata": {
        "id": "qze349zVW73h"
      },
      "source": [
        ""
      ],
      "execution_count": null,
      "outputs": []
    },
    {
      "cell_type": "code",
      "metadata": {
        "id": "el8GNBofithw",
        "colab": {
          "base_uri": "https://localhost:8080/",
          "height": 50
        },
        "outputId": "0a6505ff-5f04-47a5-8883-7afc3c51e3c5"
      },
      "source": [
        "name = \"28503_71.44\"\n",
        "!mkdir \"/content/drive/My Drive/nlp/emotion/weights/28503_70.44/\"\n",
        "# serialize weights to HDF5\n",
        "model.save_weights(\"/content/drive/My Drive/nlp/emotion/weights/\"+name+\"/\"+name+\".weights\")\n",
        "print(\"Saved model to disk\")\n",
        "\n",
        "import pickle\n",
        "with open(\"/content/drive/My Drive/nlp/emotion/weights/\"+name+\"/\"+name+\".hist\", 'wb') as file_pi:\n",
        "   pickle.dump(history.history, file_pi)"
      ],
      "execution_count": null,
      "outputs": [
        {
          "output_type": "stream",
          "text": [
            "mkdir: cannot create directory ‘/content/drive/My Drive/nlp/emotion/weights/28503_70.44/’: File exists\n",
            "Saved model to disk\n"
          ],
          "name": "stdout"
        }
      ]
    },
    {
      "cell_type": "code",
      "metadata": {
        "id": "jWmEZaPoqtL1",
        "colab": {
          "base_uri": "https://localhost:8080/",
          "height": 337
        },
        "outputId": "222083d0-e3fe-445d-96e8-5009b22632cd"
      },
      "source": [
        "with open(\"/content/drive/My Drive/nlp/emotion/weights/\"+name+\".hist\", 'rb') as p:\n",
        "  hist = pickle.load(p)\n",
        "plot_history(hist)"
      ],
      "execution_count": null,
      "outputs": [
        {
          "output_type": "display_data",
          "data": {
            "image/png": "[encoded data removed]",
            "text/plain": [
              "<Figure size 864x360 with 2 Axes>"
            ]
          },
          "metadata": {
            "tags": []
          }
        }
      ]
    },
    {
      "cell_type": "code",
      "metadata": {
        "id": "mqf5fnPDlQCl"
      },
      "source": [
        "model.save_weights('modjbjkjkel')"
      ],
      "execution_count": null,
      "outputs": []
    },
    {
      "cell_type": "code",
      "metadata": {
        "id": "uMNsMZ2ppxWe",
        "colab": {
          "base_uri": "https://localhost:8080/",
          "height": 34
        },
        "outputId": "916643f6-7f27-4635-a281-876ba31fdc76"
      },
      "source": [
        ""
      ],
      "execution_count": null,
      "outputs": [
        {
          "output_type": "execute_result",
          "data": {
            "text/plain": [
              "<tensorflow.python.training.tracking.util.CheckpointLoadStatus at 0x7fc146eeeba8>"
            ]
          },
          "metadata": {
            "tags": []
          },
          "execution_count": 138
        }
      ]
    },
    {
      "cell_type": "markdown",
      "metadata": {
        "id": "AiuNT4noJnYB"
      },
      "source": [
        "# CNN"
      ]
    },
    {
      "cell_type": "code",
      "metadata": {
        "id": "YpeE1q82bAE1"
      },
      "source": [
        "RANDOM_STATE = 42\n",
        "# Split train & test\n",
        "sentences = df['TEXT'].values\n",
        "target = df['classes'].values\n",
        "text_train, text_test, y_train, y_test = train_test_split(sentences, target,  test_size=0.15, random_state=RANDOM_STATE)\n",
        "\n",
        "from keras.utils import to_categorical\n",
        "y_train = to_categorical(y_train)\n",
        "y_test = to_categorical(y_test)\n",
        "\n",
        "# Tokenize and transform to integer index\n",
        "tokenizer = Tokenizer()\n",
        "tokenizer.fit_on_texts(text_train)\n",
        "\n",
        "X_train = tokenizer.texts_to_sequences(text_train)\n",
        "X_test = tokenizer.texts_to_sequences(text_test)\n",
        "\n",
        "vocab_size = len(tokenizer.word_index) + 1  # Adding 1 because of reserved 0 index\n",
        "maxlen = max(len(x) for x in X_train) # longest text in train set\n",
        "\n",
        "# Add pading to ensure all vectors have same dimensionality\n",
        "X_train = pad_sequences(X_train, padding='post', maxlen=maxlen)\n",
        "X_test = pad_sequences(X_test, padding='post', maxlen=maxlen)"
      ],
      "execution_count": null,
      "outputs": []
    },
    {
      "cell_type": "code",
      "metadata": {
        "id": "0trGYNdD3bIk",
        "colab": {
          "base_uri": "https://localhost:8080/",
          "height": 35
        },
        "outputId": "2fe3662b-9e3c-4eb7-95b6-dfea71a1e6b8"
      },
      "source": [
        "vocab_size"
      ],
      "execution_count": null,
      "outputs": [
        {
          "output_type": "execute_result",
          "data": {
            "text/plain": [
              "26563"
            ]
          },
          "metadata": {
            "tags": []
          },
          "execution_count": 125
        }
      ]
    },
    {
      "cell_type": "code",
      "metadata": {
        "id": "uhf7BDLmiwiR"
      },
      "source": [
        "embedding_dim = 30\n",
        "\n",
        "model = Sequential()\n",
        "model.add(layers.Embedding(vocab_size, embedding_dim, input_length=maxlen))\n",
        "# model.add(layers.Embedding(vocab_size, embedding_dim, \n",
        "#                            weights=[embedding_matrix], \n",
        "#                            input_length=maxlen, \n",
        "#                            trainable=False))\n",
        "model.add(layers.Conv1D(32, 5, activation='relu'))\n",
        "model.add(layers.MaxPooling1D())\n",
        "model.add(layers.Conv1D(32, 5, activation='relu'))\n",
        "model.add(layers.Conv1D(128, 5, activation='relu'))\n",
        "model.add(layers.MaxPooling1D())\n",
        "model.add(layers.Flatten())\n",
        "model.add(layers.Dense(32, activation='relu'))\n",
        "# model.add(layers.Dropout(0.4))\n",
        "model.add(layers.Dense(3, activation='softmax'))"
      ],
      "execution_count": null,
      "outputs": []
    },
    {
      "cell_type": "code",
      "metadata": {
        "id": "z8jI3nxwJMYe",
        "colab": {
          "base_uri": "https://localhost:8080/",
          "height": 479
        },
        "outputId": "ebb251d3-bdfe-478b-e123-a8d61619b20d"
      },
      "source": [
        "opt = tensorflow.keras.optimizers.Adam(learning_rate=0.001)\n",
        "model.compile(loss='logcosh', \n",
        "              optimizer=opt, \n",
        "              metrics=['accuracy'])\n",
        "model.summary()"
      ],
      "execution_count": null,
      "outputs": [
        {
          "output_type": "stream",
          "text": [
            "Model: \"sequential_1\"\n",
            "_________________________________________________________________\n",
            "Layer (type)                 Output Shape              Param #   \n",
            "=================================================================\n",
            "embedding_1 (Embedding)      (None, 213, 30)           796890    \n",
            "_________________________________________________________________\n",
            "conv1d_3 (Conv1D)            (None, 209, 32)           4832      \n",
            "_________________________________________________________________\n",
            "max_pooling1d_2 (MaxPooling1 (None, 104, 32)           0         \n",
            "_________________________________________________________________\n",
            "conv1d_4 (Conv1D)            (None, 100, 32)           5152      \n",
            "_________________________________________________________________\n",
            "conv1d_5 (Conv1D)            (None, 96, 128)           20608     \n",
            "_________________________________________________________________\n",
            "max_pooling1d_3 (MaxPooling1 (None, 48, 128)           0         \n",
            "_________________________________________________________________\n",
            "flatten_1 (Flatten)          (None, 6144)              0         \n",
            "_________________________________________________________________\n",
            "dense_2 (Dense)              (None, 32)                196640    \n",
            "_________________________________________________________________\n",
            "dense_3 (Dense)              (None, 3)                 99        \n",
            "=================================================================\n",
            "Total params: 1,024,221\n",
            "Trainable params: 1,024,221\n",
            "Non-trainable params: 0\n",
            "_________________________________________________________________\n"
          ],
          "name": "stdout"
        }
      ]
    },
    {
      "cell_type": "code",
      "metadata": {
        "id": "xZyF0lq3KuF5",
        "colab": {
          "base_uri": "https://localhost:8080/",
          "height": 408
        },
        "outputId": "099c6ae1-2a55-4b4c-e373-e6d2f42ff170"
      },
      "source": [
        "# Fit model\n",
        "batch_size = 10\n",
        "history = model.fit(X_train, y_train,\n",
        "                    epochs=11,\n",
        "                    # steps_per_epoch=int(len(X_train)/batch_size),\n",
        "                    verbose=True,\n",
        "                    validation_data=(X_test, y_test),\n",
        "                    # validation_steps=int(len(X_test)/batch_size)\n",
        "                    batch_size=batch_size\n",
        "                    )"
      ],
      "execution_count": null,
      "outputs": [
        {
          "output_type": "stream",
          "text": [
            "Epoch 1/11\n",
            "1561/1561 [==============================] - 16s 10ms/step - loss: 0.0787 - accuracy: 0.6013 - val_loss: 0.0575 - val_accuracy: 0.7182\n",
            "Epoch 2/11\n",
            "1561/1561 [==============================] - 32s 20ms/step - loss: 0.0459 - accuracy: 0.7884 - val_loss: 0.0544 - val_accuracy: 0.7444\n",
            "Epoch 3/11\n",
            "1561/1561 [==============================] - 26s 17ms/step - loss: 0.0294 - accuracy: 0.8744 - val_loss: 0.0559 - val_accuracy: 0.7487\n",
            "Epoch 4/11\n",
            "1561/1561 [==============================] - 26s 17ms/step - loss: 0.0180 - accuracy: 0.9256 - val_loss: 0.0540 - val_accuracy: 0.7687\n",
            "Epoch 5/11\n",
            "1561/1561 [==============================] - 32s 21ms/step - loss: 0.0126 - accuracy: 0.9492 - val_loss: 0.0567 - val_accuracy: 0.7629\n",
            "Epoch 6/11\n",
            "1561/1561 [==============================] - 32s 21ms/step - loss: 0.0101 - accuracy: 0.9596 - val_loss: 0.0610 - val_accuracy: 0.7549\n",
            "Epoch 7/11\n",
            "1561/1561 [==============================] - 32s 20ms/step - loss: 0.0083 - accuracy: 0.9678 - val_loss: 0.0550 - val_accuracy: 0.7771\n",
            "Epoch 8/11\n",
            "1561/1561 [==============================] - 32s 20ms/step - loss: 0.0070 - accuracy: 0.9723 - val_loss: 0.0582 - val_accuracy: 0.7651\n",
            "Epoch 9/11\n",
            "1561/1561 [==============================] - 32s 20ms/step - loss: 0.0061 - accuracy: 0.9763 - val_loss: 0.0582 - val_accuracy: 0.7680\n",
            "Epoch 10/11\n",
            "1561/1561 [==============================] - 28s 18ms/step - loss: 0.0054 - accuracy: 0.9795 - val_loss: 0.0589 - val_accuracy: 0.7741\n",
            "Epoch 11/11\n",
            "1561/1561 [==============================] - 25s 16ms/step - loss: 0.0054 - accuracy: 0.9794 - val_loss: 0.0607 - val_accuracy: 0.7662\n"
          ],
          "name": "stdout"
        }
      ]
    },
    {
      "cell_type": "code",
      "metadata": {
        "id": "_Bgva4jtKzZd",
        "colab": {
          "base_uri": "https://localhost:8080/",
          "height": 337
        },
        "outputId": "671453dc-8523-446c-9093-f77c7f50e099"
      },
      "source": [
        "plot_history(history.history)"
      ],
      "execution_count": null,
      "outputs": [
        {
          "output_type": "display_data",
          "data": {
            "image/png": "[encoded data removed]",
            "text/plain": [
              "<Figure size 864x360 with 2 Axes>"
            ]
          },
          "metadata": {
            "tags": []
          }
        }
      ]
    },
    {
      "cell_type": "markdown",
      "metadata": {
        "id": "gcfjEQCuNx5g"
      },
      "source": [
        "# Pretrained"
      ]
    },
    {
      "cell_type": "code",
      "metadata": {
        "id": "cDXBKwEON_7C",
        "colab": {
          "base_uri": "https://localhost:8080/",
          "height": 70
        },
        "outputId": "932c2d59-d701-4880-d836-1fdbadf9cb80"
      },
      "source": [
        "from gensim.models import Word2Vec\n",
        "model = Word2Vec.load(\"/content/drive/My Drive/nlp/emotion/word2vec/bengali_word2vec.model\")"
      ],
      "execution_count": null,
      "outputs": [
        {
          "output_type": "stream",
          "text": [
            "/usr/local/lib/python3.6/dist-packages/smart_open/smart_open_lib.py:254: UserWarning: This function is deprecated, use smart_open.open instead. See the migration notes for details: https://github.com/RaRe-Technologies/smart_open/blob/master/README.rst#migrating-to-the-new-open-function\n",
            "  'See the migration notes for details: %s' % _MIGRATION_NOTES_URL\n"
          ],
          "name": "stderr"
        }
      ]
    },
    {
      "cell_type": "code",
      "metadata": {
        "id": "28JWt0kGLbEO"
      },
      "source": [
        "import numpy as np\n",
        "\n",
        "def create_embedding_matrix(model, word_index, embedding_dim):\n",
        "    vocab_size = len(word_index) + 1  # Adding again 1 because of reserved 0 index\n",
        "    embedding_matrix = np.zeros((vocab_size, embedding_dim))\n",
        "\n",
        "   \n",
        "    for word in word_index:\n",
        "        if word in model.wv.vocab:\n",
        "            idx = word_index[word] \n",
        "            embedding_matrix[idx] = np.array(\n",
        "                vector, dtype=np.float32)[:embedding_dim]\n",
        "\n",
        "    return embedding_matrix"
      ],
      "execution_count": null,
      "outputs": []
    },
    {
      "cell_type": "code",
      "metadata": {
        "id": "3TlDkPERN013"
      },
      "source": [
        "# /content/drive/My Drive/nlp/emotion/word2vec/bengali_word2vec.model"
      ],
      "execution_count": null,
      "outputs": []
    },
    {
      "cell_type": "code",
      "metadata": {
        "id": "2WzzLJoSsPSy",
        "colab": {
          "base_uri": "https://localhost:8080/",
          "height": 313
        },
        "outputId": "ad4dda59-e895-42e0-c701-83de711044a3"
      },
      "source": [
        "embedding_dim = 50\n",
        "embedding_matrix = create_embedding_matrix(model,\n",
        "                                          tokenizer.word_index, \n",
        "                                          embedding_dim)"
      ],
      "execution_count": null,
      "outputs": [
        {
          "output_type": "error",
          "ename": "AttributeError",
          "evalue": "ignored",
          "traceback": [
            "\u001b[0;31m---------------------------------------------------------------------------\u001b[0m",
            "\u001b[0;31mAttributeError\u001b[0m                            Traceback (most recent call last)",
            "\u001b[0;32m<ipython-input-151-6c9be663cc48>\u001b[0m in \u001b[0;36m<module>\u001b[0;34m()\u001b[0m\n\u001b[1;32m      2\u001b[0m embedding_matrix = create_embedding_matrix(model,\n\u001b[1;32m      3\u001b[0m                                           \u001b[0mtokenizer\u001b[0m\u001b[0;34m.\u001b[0m\u001b[0mword_index\u001b[0m\u001b[0;34m,\u001b[0m\u001b[0;34m\u001b[0m\u001b[0;34m\u001b[0m\u001b[0m\n\u001b[0;32m----> 4\u001b[0;31m                                           embedding_dim)\n\u001b[0m",
            "\u001b[0;32m<ipython-input-57-9723608c4d08>\u001b[0m in \u001b[0;36mcreate_embedding_matrix\u001b[0;34m(model, word_index, embedding_dim)\u001b[0m\n\u001b[1;32m      7\u001b[0m \u001b[0;34m\u001b[0m\u001b[0m\n\u001b[1;32m      8\u001b[0m     \u001b[0;32mfor\u001b[0m \u001b[0mword\u001b[0m \u001b[0;32min\u001b[0m \u001b[0mword_index\u001b[0m\u001b[0;34m:\u001b[0m\u001b[0;34m\u001b[0m\u001b[0;34m\u001b[0m\u001b[0m\n\u001b[0;32m----> 9\u001b[0;31m         \u001b[0;32mif\u001b[0m \u001b[0mword\u001b[0m \u001b[0;32min\u001b[0m \u001b[0mmodel\u001b[0m\u001b[0;34m.\u001b[0m\u001b[0mwv\u001b[0m\u001b[0;34m.\u001b[0m\u001b[0mvocab\u001b[0m\u001b[0;34m:\u001b[0m\u001b[0;34m\u001b[0m\u001b[0;34m\u001b[0m\u001b[0m\n\u001b[0m\u001b[1;32m     10\u001b[0m             \u001b[0midx\u001b[0m \u001b[0;34m=\u001b[0m \u001b[0mword_index\u001b[0m\u001b[0;34m[\u001b[0m\u001b[0mword\u001b[0m\u001b[0;34m]\u001b[0m\u001b[0;34m\u001b[0m\u001b[0;34m\u001b[0m\u001b[0m\n\u001b[1;32m     11\u001b[0m             embedding_matrix[idx] = np.array(\n",
            "\u001b[0;31mAttributeError\u001b[0m: 'Sequential' object has no attribute 'wv'"
          ]
        }
      ]
    },
    {
      "cell_type": "code",
      "metadata": {
        "id": "ikQjJwpDtJyc",
        "colab": {
          "base_uri": "https://localhost:8080/",
          "height": 34
        },
        "outputId": "b3195431-f5b0-47e4-e549-3229d6e99a8f"
      },
      "source": [
        "embedding_matrix.shape"
      ],
      "execution_count": null,
      "outputs": [
        {
          "output_type": "execute_result",
          "data": {
            "text/plain": [
              "(33516, 50)"
            ]
          },
          "metadata": {
            "tags": []
          },
          "execution_count": 66
        }
      ]
    },
    {
      "cell_type": "code",
      "metadata": {
        "id": "q6OGg0xCta6i",
        "colab": {
          "base_uri": "https://localhost:8080/",
          "height": 34
        },
        "outputId": "7dd5b5e0-fd80-4cd9-cbe8-2b1e4b7b266d"
      },
      "source": [
        "nonzero_elements = np.count_nonzero(np.count_nonzero(embedding_matrix, axis=1))\n",
        "nonzero_elements / vocab_size"
      ],
      "execution_count": null,
      "outputs": [
        {
          "output_type": "execute_result",
          "data": {
            "text/plain": [
              "1.2032"
            ]
          },
          "metadata": {
            "tags": []
          },
          "execution_count": 65
        }
      ]
    },
    {
      "cell_type": "code",
      "metadata": {
        "id": "v-W4MRaNwYLC",
        "colab": {
          "base_uri": "https://localhost:8080/",
          "height": 286
        },
        "outputId": "c4e7ae46-8691-4435-94bf-b31999bf9068"
      },
      "source": [
        "model = Sequential()\n",
        "model.add(layers.Embedding(vocab_size, embedding_dim, \n",
        "                           weights=[embedding_matrix], \n",
        "                           input_length=maxlen, \n",
        "                           trainable=False))\n",
        "model.add(layers.GlobalMaxPool1D())\n",
        "model.add(layers.Dense(10, activation='relu'))\n",
        "model.add(layers.Dense(6, activation='softmax'))\n",
        "model.compile(optimizer='adam',\n",
        "              loss='categorical_crossentropy',\n",
        "              metrics=['accuracy'])\n",
        "model.summary()"
      ],
      "execution_count": null,
      "outputs": [
        {
          "output_type": "stream",
          "text": [
            "Model: \"sequential_1\"\n",
            "_________________________________________________________________\n",
            "Layer (type)                 Output Shape              Param #   \n",
            "=================================================================\n",
            "embedding_1 (Embedding)      (None, 213, 300)          10054800  \n",
            "_________________________________________________________________\n",
            "global_max_pooling1d_1 (Glob (None, 300)               0         \n",
            "_________________________________________________________________\n",
            "dense_1 (Dense)              (None, 10)                3010      \n",
            "_________________________________________________________________\n",
            "dense_2 (Dense)              (None, 6)                 66        \n",
            "=================================================================\n",
            "Total params: 10,057,876\n",
            "Trainable params: 3,076\n",
            "Non-trainable params: 10,054,800\n",
            "_________________________________________________________________\n"
          ],
          "name": "stdout"
        }
      ]
    },
    {
      "cell_type": "code",
      "metadata": {
        "id": "nwYEFysQwl5X"
      },
      "source": [
        "history = model.fit(X_train, y_train,\n",
        "                    epochs=50,\n",
        "                    verbose=False,\n",
        "                    validation_data=(X_test, y_test),\n",
        "                    batch_size=10)\n",
        "loss, accuracy = model.evaluate(X_train, y_train, verbose=False)\n",
        "print(\"Training Accuracy: {:.4f}\".format(accuracy))\n",
        "loss, accuracy = model.evaluate(X_test, y_test, verbose=False)\n",
        "print(\"Testing Accuracy:  {:.4f}\".format(accuracy))\n"
      ],
      "execution_count": null,
      "outputs": []
    },
    {
      "cell_type": "code",
      "metadata": {
        "id": "1s25V6dUwv0Y",
        "colab": {
          "base_uri": "https://localhost:8080/",
          "height": 337
        },
        "outputId": "1f6727c9-3971-4b49-d924-bb7a5a19172d"
      },
      "source": [
        "plot_history(history)"
      ],
      "execution_count": null,
      "outputs": [
        {
          "output_type": "display_data",
          "data": {
            "image/png": "[encoded data removed]",
            "text/plain": [
              "<Figure size 864x360 with 2 Axes>"
            ]
          },
          "metadata": {
            "tags": []
          }
        }
      ]
    },
    {
      "cell_type": "code",
      "metadata": {
        "id": "YOIl9dtm2CxE"
      },
      "source": [
        ""
      ],
      "execution_count": null,
      "outputs": []
    }
  ]
}